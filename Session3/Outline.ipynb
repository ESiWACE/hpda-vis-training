{
 "cells": [
  {
   "cell_type": "markdown",
   "metadata": {},
   "source": [
    "# ESiWACE2 Online Training on High-Performance Data Anlytics (HPDA) and Visualisation\n",
    "\n",
    "### Tuesday, 22 October, 2020\n",
    "\n",
    "This online training course aims to increase scientists’ expertise on data analysis and visualization applied to climate and weather domains, using high-performance data analytics and visualization tools available from the open source market (i.e., Ophidia and ParaView). This course is organized in the context of the “Centre of Excellence in Simulation of Weather and Climate in Europe” (ESiWACE) phase 2 project.\n",
    "\n",
    "## Introduction to Ophidia\n",
    "\n",
    "This notebook provides the outline for the third session of the training course. The session is organized as:\n",
    "\n",
    "1. Introduction to workflows in climate applications and Ophidia\n",
    "2. Real-world examples of analytics workflow with the Ophidia framework\n",
    "3. Practical examples of simple workflow creation and integration with PyOphidia\n",
    "4. Hands-on session with a more complex workflow\n",
    "\n",
    "### Preliminary info\n",
    "\n",
    "For running the following notebooks you will need to setup the VM environment according to the provided instructions.\n",
    "\n",
    "You will also need to download the CMIP5 data from the following links (from ESGF) under the */data* folder. From the shell you can run:\n",
    "\n",
    "```bash\n",
    "cd /data\n",
    "wget http://esgf-node.cmcc.it/thredds/fileServer/esg_dataroot/cmip5/output1/CMCC/CMCC-CESM/rcp85/day/atmos/day/r1i1p1/v20170725/tasmax/tasmax_day_CMCC-CESM_rcp85_r1i1p1_20960101-21001231.nc\n",
    "wget http://esgf-node.cmcc.it/thredds/fileServer/esg_dataroot/cmip5/output1/CMCC/CMCC-CM/rcp85/day/atmos/day/r1i1p1/v20170725/tasmax/tasmax_day_CMCC-CM_rcp85_r1i1p1_20110101-20111231.nc\n",
    "wget http://esgf-node.cmcc.it/thredds/fileServer/esg_dataroot/cmip5/output1/CMCC/CMCC-CM/rcp85/day/atmos/day/r1i1p1/v20170725/tasmax/tasmax_day_CMCC-CM_rcp85_r1i1p1_20120101-20121231.nc\n",
    "wget http://esgf-node.cmcc.it/thredds/fileServer/esg_dataroot/cmip5/output1/CMCC/CMCC-CM/rcp85/day/atmos/day/r1i1p1/v20170725/tasmax/tasmax_day_CMCC-CM_rcp85_r1i1p1_20130101-20131231.nc\n",
    "```\n",
    "\n",
    "### Demo Notebook\n",
    "\n",
    "This folder contains the notebook that will be shown during the practical overview demo:\n",
    "\n",
    "- [**Workflow_Overview**](./Demo/Workflow_Overview.ipynb) shows some practical examples of how to define a workflow by a JSON object \n",
    "- [**Summer_Days_workflow**](./Demo/Summer_Days_workflow.ipynb) shows how to compute the Summer Days indicator as a workflow of operators\n",
    "\n",
    "\n",
    "### Hands-on Notebooks\n",
    "\n",
    "- [**Summer_Days_workflow_Handson**](./Hands-on/Summer_days_workflow_Handson.ipynb) shows how to compute the Summer Days indicator over multiple input files in parallel and create an animated image from the corresponding maps.\n",
    "\n",
    "\n",
    "### Useful links\n",
    "\n",
    "1. [ESiWACE project](https://www.esiwace.eu/)\n",
    "2. [Training Event Website](https://www.esiwace.eu/events/hpda-training-2020/hpda-training-2020)\n",
    "3. [Ophidia website](http://ophidia.cmcc.it/)\n",
    "4. [Ophidia on Github](https://github.com/OphidiaBigData)\n",
    "5. [Ophidia Docs](http://ophidia.cmcc.it/documentation/)\n",
    "5. [Ophidia Workflow Docs](http://ophidia.cmcc.it/documentation/users/workflow/index.html)\n",
    "7. [PyOphidia](https://github.com/OphidiaBigData/PyOphidia/)"
   ]
  },
  {
   "cell_type": "markdown",
   "metadata": {},
   "source": []
  }
 ],
 "metadata": {
  "kernelspec": {
   "display_name": "Python 3",
   "language": "python",
   "name": "python3"
  },
  "language_info": {
   "codemirror_mode": {
    "name": "ipython",
    "version": 3
   },
   "file_extension": ".py",
   "mimetype": "text/x-python",
   "name": "python",
   "nbconvert_exporter": "python",
   "pygments_lexer": "ipython3",
   "version": "3.6.8"
  }
 },
 "nbformat": 4,
 "nbformat_minor": 2
}
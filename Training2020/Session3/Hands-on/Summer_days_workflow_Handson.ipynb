{
 "cells": [
  {
   "cell_type": "markdown",
   "metadata": {},
   "source": [
    "# Compute the Summer Days Climate Index for several years\n",
    "\n",
    "Starting from the [**Summer Days workflow**](../Demo/Summer_Days_workflow.ipynb) implemented to compute the **Summer Days index** for one input NetCDF data set, we can extend it to compute the index for several years in parallel by exploiting the **iterative and parallel interfaces** made available by the Ophidia Workflow Management System.\n",
    "\n",
    "**Summer Days index**: number of days where daily maximum temperature $TX > T$ (T is  a reference temperature, e.g. 25°C)\n"
   ]
  },
  {
   "cell_type": "markdown",
   "metadata": {},
   "source": [
    "As first step, let's connect to the Ophidia Server"
   ]
  },
  {
   "cell_type": "code",
   "execution_count": null,
   "metadata": {},
   "outputs": [],
   "source": [
    "import sys\n",
    "from PyOphidia import cube,client\n",
    "cube.Cube.setclient(read_env=True)"
   ]
  },
  {
   "cell_type": "markdown",
   "metadata": {},
   "source": [
    "As input files, we can use the daily NetCDF files produced by the CMCC-CM model and related to the tasmax variable for the years 2011-2013. "
   ]
  },
  {
   "cell_type": "code",
   "execution_count": null,
   "metadata": {},
   "outputs": [],
   "source": [
    "! ls /data"
   ]
  },
  {
   "cell_type": "markdown",
   "metadata": {},
   "source": [
    "The JSON object associated to the new workflow is quite similar to the previous one.\n",
    "\n",
    "To exploit the iterative and parallel interfaces we just need to use the **For Statement**, i.e. the pair of operators **OPH_FOR** (with the *parallel* option enabled) and **OPH_ENDFOR**.\n",
    "\n",
    "The task list includes now the following tasks:\n",
    "\n",
    "1. **Create container**\n",
    " - We use the *oph_createcontainer* (see http://ophidia.cmcc.it/documentation/users/operators/OPH_CREATECONTAINER.html) to create an empty container in order to organize all the datacubes imported and produced during the workflow execution\n",
    "\n",
    "The **IMPORT**, **MASK**, **COUNT** and **EXPORT** tasks have to be now executed for each of the input years.\n",
    "So, we use the **OPH_FOR** operator to configure the iterative block and, in particular, to set the number N of loops to be executed. \n",
    "\n",
    "2. **Start loop**\n",
    " - the **values** argument is an ordered list of N labels (pipe-separated years) to be assigned to cycles \n",
    " - the **parallel** option is enabled\n",
    " - each label value can be read in the inner tasks by using @{year} as indicated in the **key** argument\n",
    "\n",
    "Each inner task depends on OPH_FOR in order to exploit the value of the label associated with the current iteration. \n",
    "\n",
    "3. **Import**\n",
    " - the *src_path* and the *description* parameters in the *oph_importnc* operator are defined in a parametrized way to get the current value of the *year* key for each iteration\n",
    " - the task has a flow dependency from the OPH_FOR task\n",
    " \n",
    " \n",
    "4. **Summer Days mask**\n",
    " - the *oph_apply* operator (jointly with the *oph_predicate* primitive) is used to identify the summer days: $\\{day \\mid TX(day) > 298.15\\}$ \n",
    " - the task has a flow dependency from the OPH_FOR task and a **single** dependency from the **Import** task\n",
    " \n",
    "\n",
    "5. **Count summer days**\n",
    " - count days below the given threshold on yearly basis by using the *oph_reduce2* operator\n",
    " - flow dependency from the OPH_FOR task and **single** dependency from **task 4**\n",
    " \n",
    "\n",
    "6. **Export**\n",
    " - each Summer Days index is exported to a NetCDF file by using the *oph_exportnc2* operator \n",
    " - flow dependency from the OPH_FOR task and **single** dependency from **task 5**\n",
    " \n",
    "The iterative block ends by means of the **OPH_ENDFOR** operator.\n",
    "\n",
    "7. **End loop**\n",
    " - *oph_endfor* operator\n",
    " - flow dependency from **Export** task\n",
    " \n",
    " \n",
    "8. **Delete container**\n",
    " - *oph_deletecontainer* operator used to empty the workspace\n",
    " \n",
    " \n",
    "\n",
    "<img src=\"Summer_Days_over_several_year.svg\" alt=\"Summer_Days_over_several_year\" width=\"800\">"
   ]
  },
  {
   "cell_type": "code",
   "execution_count": null,
   "metadata": {},
   "outputs": [],
   "source": [
    "summer_days = \"\"\"{\n",
    "        \"name\": \"Summer Days over several year\",\n",
    "        \"author\": \"CMCC\",\n",
    "        \"abstract\": \"Summer Days index over several years\",\n",
    "        \"exec_mode\": \"sync\",\n",
    "        \"ncores\": \"1\",\n",
    "        \"cwd\": \"/\",\n",
    "        \"tasks\":\n",
    "        [\n",
    "                {\n",
    "                        \"name\": \"Create container\",\n",
    "                        \"operator\": \"oph_createcontainer\",\n",
    "                        \"arguments\": \n",
    "                        [\n",
    "                                \"container=summer_days\",\n",
    "                                \"dim=lat|lon|time\",\n",
    "                                \"dim_type=double|double|double\",\n",
    "                                \"hierarchy=oph_base|oph_base|oph_time\"\n",
    "                        ]\n",
    "                },\n",
    "                {\n",
    "                        \"name\": \"Start loop\",\n",
    "                        \"operator\": \"oph_for\",\n",
    "                        \"arguments\": \n",
    "                        [\n",
    "                                \"key=year\",\n",
    "                                \"values=2011|2012|2013\",\n",
    "                                \"parallel=yes\"\n",
    "                        ],\n",
    "                        \"dependencies\": [\n",
    "                                { \"task\": \"Create container\"}\n",
    "                        ]\n",
    "                },\n",
    "                {\n",
    "                        \"name\": \"Import\",\n",
    "                        \"operator\": \"oph_importnc\",\n",
    "                        \"arguments\":\n",
    "                        [\n",
    "                                \"src_path=/data/tasmax_day_CMCC-CM_rcp85_r1i1p1_@{year}0101-@{year}1231.nc\",                            \n",
    "                                \"measure=$1\",\n",
    "                                \"container=summer_days\",\n",
    "                                \"import_metadata=yes\",\n",
    "                                \"imp_dim=time\",\n",
    "                                \"imp_concept_level=d\",\n",
    "                                \"vocabulary=CF\",\n",
    "                                \"hierarchy=oph_base|oph_base|oph_time\",\n",
    "                                \"description=Max Temp @{year}\"\n",
    "                        ],\n",
    "                        \"dependencies\": [\n",
    "                                { \"task\": \"Start loop\"}\n",
    "                        ]\n",
    "                },   \n",
    "                {\n",
    "                        \"name\": \"Summer Days mask\",\n",
    "                        \"operator\": \"oph_apply\",\n",
    "                        \"arguments\":\n",
    "                        [\n",
    "                                \"measure_type=auto\",\n",
    "                                \"query=oph_predicate(measure,'x-298.15','>0','1','0')\",\n",
    "                                \"description=Summer days mask @{year}\"\n",
    "                        ],\n",
    "                        \"dependencies\": [\n",
    "                                { \"task\": \"Import\", \"type\": \"single\" },\n",
    "                                { \"task\": \"Start loop\"}\n",
    "                        ]\n",
    "                },\n",
    "                {\n",
    "                        \"name\": \"Count summer days\",\n",
    "                        \"operator\": \"oph_reduce\",\n",
    "                        \"arguments\":\n",
    "                        [\n",
    "                                \"operation=sum\",\n",
    "                                \"dim=time\",\n",
    "                                \"description=Summer Days Count @{year}\"\n",
    "                        ],\n",
    "                        \"dependencies\": [\n",
    "                                { \"task\": \"Summer Days mask\", \"type\": \"single\" },\n",
    "                                { \"task\": \"Start loop\"}\n",
    "                        ]\n",
    "                },\n",
    "                {\n",
    "                        \"name\": \"Export\",\n",
    "                        \"operator\": \"oph_exportnc2\",\n",
    "                        \"arguments\": [\n",
    "                            \"output_name=summer_days_@{year}\",\n",
    "                            \"output_path=/data/output\"\n",
    "                        ],\n",
    "                        \"dependencies\": [\n",
    "                            { \"task\": \"Count summer days\", \"type\": \"single\"},\n",
    "                            { \"task\": \"Start loop\"}\n",
    "                        ]\n",
    "                },\n",
    "                {\n",
    "                        \"name\": \"End loop\",\n",
    "                        \"operator\": \"oph_endfor\",\n",
    "                        \"arguments\": [],\n",
    "                        \"dependencies\": [\n",
    "                                { \"task\": \"Export\"}\n",
    "                        ]\n",
    "                },\n",
    "                {\n",
    "                        \"name\": \"Delete container\",\n",
    "                        \"operator\": \"oph_deletecontainer\",\n",
    "                        \"arguments\": [\n",
    "                                \"container=summer_days\",\n",
    "                                \"force=yes\"\n",
    "                        ],\n",
    "                        \"dependencies\": [\n",
    "                                { \"task\": \"End loop\"}\n",
    "                        ]\n",
    "                }\n",
    "                \n",
    "        ]\n",
    "}\"\"\""
   ]
  },
  {
   "cell_type": "markdown",
   "metadata": {},
   "source": [
    "Submit the workflow"
   ]
  },
  {
   "cell_type": "code",
   "execution_count": null,
   "metadata": {},
   "outputs": [],
   "source": [
    "cube.Cube.client.wsubmit(summer_days,\"tasmax\")"
   ]
  },
  {
   "cell_type": "markdown",
   "metadata": {},
   "source": [
    "Run the *ls* command. As we can see, we have a netCDF file for each year:\n",
    "- summer_days_2011.nc\n",
    "- summer_days_2012.nc\n",
    "- summer_days_2013.nc"
   ]
  },
  {
   "cell_type": "code",
   "execution_count": null,
   "metadata": {},
   "outputs": [],
   "source": [
    "! ls -lh /data/output"
   ]
  },
  {
   "cell_type": "markdown",
   "metadata": {},
   "source": [
    "Plot a map for each year and create a gif. We just need to install the **netCDF4** and **imageio** libraries"
   ]
  },
  {
   "cell_type": "code",
   "execution_count": null,
   "metadata": {},
   "outputs": [],
   "source": [
    "! pip3 install --user netCDF4 imageio"
   ]
  },
  {
   "cell_type": "markdown",
   "metadata": {},
   "source": [
    "Run the python script to create the gif map"
   ]
  },
  {
   "cell_type": "code",
   "execution_count": null,
   "metadata": {},
   "outputs": [],
   "source": [
    "! /usr/bin/python3 ./plot_map_cartopy_gif.py"
   ]
  },
  {
   "cell_type": "code",
   "execution_count": null,
   "metadata": {},
   "outputs": [],
   "source": [
    "! ls -lh /data/output | grep \"\\.gif\""
   ]
  },
  {
   "cell_type": "markdown",
   "metadata": {},
   "source": [
    "Display the gif inside the notebook"
   ]
  },
  {
   "cell_type": "code",
   "execution_count": null,
   "metadata": {},
   "outputs": [],
   "source": [
    "from IPython.display import Image\n",
    "with open('/data/output/summer_days_2011_2013.gif','rb') as f:\n",
    "    display(Image(data=f.read(), format='gif'))"
   ]
  }
 ],
 "metadata": {
  "kernelspec": {
   "display_name": "Python 3",
   "language": "python",
   "name": "python3"
  },
  "language_info": {
   "codemirror_mode": {
    "name": "ipython",
    "version": 3
   },
   "file_extension": ".py",
   "mimetype": "text/x-python",
   "name": "python",
   "nbconvert_exporter": "python",
   "pygments_lexer": "ipython3",
   "version": "3.6.8"
  }
 },
 "nbformat": 4,
 "nbformat_minor": 2
}

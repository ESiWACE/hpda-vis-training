{
 "cells": [
  {
   "cell_type": "markdown",
   "metadata": {},
   "source": [
    "## Selection statement with more than two selection blocks\n",
    "\n",
    "Try to implement a workflow in which all the operators of the selection interface *(IF, ELSEIF, ELSE, ENDIF)* are adopted."
   ]
  },
  {
   "cell_type": "markdown",
   "metadata": {
    "tags": []
   },
   "source": [
    "The following figure shows the graphical representation of a possible workflow.\n",
    "\n",
    "<img src=\"../imgs/Selection_Interface.svg\" alt=\"Selection_Interface\" width=\"300\">\n",
    "\n",
    "The corresponding pseudo-code could be something like this:\n",
    "\n",
    "    if flag1 == 1:\n",
    "        Import a NetCDF file and subset it at the same time\n",
    "    else \n",
    "        if flag2 == 1:\n",
    "            Create a container and then a new datacube with random data and dimensions\n",
    "        else\n",
    "            Import a NetCDF file, then perform a subset operation over the datacube dimensions"
   ]
  },
  {
   "cell_type": "markdown",
   "metadata": {},
   "source": [
    "<hr style=\"height:1px;border-top:1px solid #0000FF\" />"
   ]
  },
  {
   "cell_type": "markdown",
   "metadata": {},
   "source": [
    "As first step, let's connect to the Ophidia Server and import the necessary modules"
   ]
  },
  {
   "cell_type": "code",
   "execution_count": null,
   "metadata": {},
   "outputs": [],
   "source": [
    "from esdm_pav_client import Workflow, Experiment, Task\n",
    "import sys\n",
    "from PyOphidia import cube,client\n",
    "cube.Cube.setclient(read_env=True)"
   ]
  },
  {
   "cell_type": "markdown",
   "metadata": {},
   "source": [
    "<hr style=\"height:1px;border-top:1px solid #0000FF\" />"
   ]
  },
  {
   "cell_type": "markdown",
   "metadata": {},
   "source": [
    "Let's try to build step-by-step the experiment associated to the workflow, by completing the missing arguments (```.....```).\n",
    "\n",
    "**Some hints:**\n",
    "   - the task ```ELSEIF``` has to be a child of ```IF``` or another ```ELSEIF```\n",
    "   - the task ```ELSE``` could be a child of ```ELSEIF``` and must be child of ```IF```\n",
    "   - the last task of any branch should be added as a dependency of the ```ENDIF``` task\n",
    "   - the workflow has the following arguments:\n",
    "       -  *if condition* ```$1```\n",
    "       -  *elseif condition* ```$2```\n",
    "       -  *NetCDF filename* ```$3```\n",
    "       -  *variable* to be imported ```$4```\n",
    "       -  *subset filter* (lat|lon|time) ```$5```\n",
    " "
   ]
  },
  {
   "cell_type": "markdown",
   "metadata": {},
   "source": [
    "First of all, we need to define the global workflow information."
   ]
  },
  {
   "cell_type": "code",
   "execution_count": null,
   "metadata": {},
   "outputs": [],
   "source": [
    "e1 = Experiment(\n",
    "    name= \"Selection Interface\",\n",
    "    author= \"CMCC\",\n",
    "    abstract= \"Selection statement with more than two selection blocks\",\n",
    "    exec_mode= \"sync\",\n",
    "    ncores=\"1\"\n",
    ")"
   ]
  },
  {
   "cell_type": "markdown",
   "metadata": {},
   "source": [
    "<hr style=\"height:1px;border-top:1px solid #0000FF\" />"
   ]
  },
  {
   "cell_type": "markdown",
   "metadata": {},
   "source": [
    "**IF block**\n",
    "\n",
    "Open a ```if``` selection block and start the first selection sub-block.\n",
    "\n",
    "The boolean expression to be checked is the first argument of the workflow: if ```true``` (a *numerical non-zero value*), the tasks depending on this task are executed, whereas the tasks associated with the following selection sub-blocks are skipped; if ```false``` (a *zero value*), the tasks depending on this task are skipped, whereas the tasks associated with the following selection sub-block are executed."
   ]
  },
  {
   "cell_type": "code",
   "execution_count": null,
   "metadata": {},
   "outputs": [],
   "source": [
    "t1 = e1.newTask(name=\"IF block\",\n",
    "                type=\"control\",\n",
    "                operator='.....',\n",
    "                arguments={'condition': '$1'})"
   ]
  },
  {
   "cell_type": "markdown",
   "metadata": {},
   "source": [
    "<hr style=\"height:1px;border-top:1px solid #0000FF\" />"
   ]
  },
  {
   "cell_type": "markdown",
   "metadata": {},
   "source": [
    "If the first condition is ```true```, use the ```oph_importnc``` operator to import and subset a NetCDF file at the same time. **Note** use the workflow variables ```$N``` for the import operator arguments."
   ]
  },
  {
   "cell_type": "code",
   "execution_count": null,
   "metadata": {},
   "outputs": [],
   "source": [
    "t2 = e1.newTask(name=\"Import and subset\",\n",
    "                type=\"ophidia\",\n",
    "                operator='.....',\n",
    "                arguments={'measure': '.....', \n",
    "                           'import_metadata': 'yes',\n",
    "                           'imp_dim': 'time', \n",
    "                           'imp_concept_level': 'd',\n",
    "                           'hierarchy': 'oph_base|oph_base|oph_time',\n",
    "                           'subset_dims': 'lat|lon|time',\n",
    "                           'subset_filter': '.....',\n",
    "                           'subset_type': 'coord',\n",
    "                           'time_filter': 'no',\n",
    "                           'description': 'Max Temp imported and subsetted',\n",
    "                           'input': '.....'},\n",
    "                dependencies={...:''})"
   ]
  },
  {
   "cell_type": "markdown",
   "metadata": {},
   "source": [
    "<hr style=\"height:1px;border-top:1px solid #0000FF\" />"
   ]
  },
  {
   "cell_type": "markdown",
   "metadata": {},
   "source": [
    "Start a new sub-block of the selection block ```if```. Here the boolean expression to be checked is the second argument of the workflow."
   ]
  },
  {
   "cell_type": "code",
   "execution_count": null,
   "metadata": {},
   "outputs": [],
   "source": [
    "t3 = e1.newTask(name=\"ELSEIF block\",\n",
    "                type=\"control\",\n",
    "                operator='elseif',\n",
    "                arguments={'condition': '.....'},\n",
    "                dependencies={...:''})"
   ]
  },
  {
   "cell_type": "markdown",
   "metadata": {},
   "source": [
    "<hr style=\"height:1px;border-top:1px solid #0000FF\" />"
   ]
  },
  {
   "cell_type": "markdown",
   "metadata": {},
   "source": [
    "If the second condition is ```true```, create an empty container named ```workflow``` and then a new datacube with random data and dimensions."
   ]
  },
  {
   "cell_type": "code",
   "execution_count": null,
   "metadata": {},
   "outputs": [],
   "source": [
    "t4 = e1.newTask(name=\"Create container\",\n",
    "                type=\"ophidia\",\n",
    "                operator='oph_createcontainer',\n",
    "                on_error='skip',\n",
    "                arguments={'container': 'random',\n",
    "                           'dim': 'lat|lon|time',\n",
    "                           'dim_type': 'double|double|double',\n",
    "                           'hierarchy': 'oph_base|oph_base|oph_time'},\n",
    "                dependencies={...:''})\n",
    "t5 = e1.newTask(name=\"Randcube\",\n",
    "                type=\"ophidia\",\n",
    "                operator='oph_randcube',\n",
    "                arguments={'container': 'random',\n",
    "                           'measure_type': 'double',\n",
    "                           'exp_ndim': '2',\n",
    "                           'dim': 'lat|lon|time',\n",
    "                           'concept_level': 'c|c|d',\n",
    "                           'dim_size': '16|10|10',\n",
    "                           'measure': 'test_var',\n",
    "                           'nhost': '1',\n",
    "                           'nfrag': '16',\n",
    "                           'ntuple': '10',\n",
    "                           'hierarchy': 'oph_base|oph_base|oph_time'\n",
    "                           'description': 'random cube'},\n",
    "                dependencies={...:''})"
   ]
  },
  {
   "cell_type": "markdown",
   "metadata": {},
   "source": [
    "<hr style=\"height:1px;border-top:1px solid #0000FF\" />"
   ]
  },
  {
   "cell_type": "markdown",
   "metadata": {},
   "source": [
    "Start the last sub-block of the selection block ```if```."
   ]
  },
  {
   "cell_type": "code",
   "execution_count": null,
   "metadata": {},
   "outputs": [],
   "source": [
    "t6 = e1.newTask(name=\"ELSE block\",\n",
    "                type=\"control\",\n",
    "                operator='else',\n",
    "                arguments={},\n",
    "                dependencies={...:''})"
   ]
  },
  {
   "cell_type": "markdown",
   "metadata": {},
   "source": [
    "<hr style=\"height:1px;border-top:1px solid #0000FF\" />"
   ]
  },
  {
   "cell_type": "markdown",
   "metadata": {},
   "source": [
    "If neither of the two conditions is satisfied, first import a NetCDF file, then perform a subset operation over the datacube dimensions."
   ]
  },
  {
   "cell_type": "code",
   "execution_count": null,
   "metadata": {},
   "outputs": [],
   "source": [
    "t7 = e1.newTask(name=\"Import data\",\n",
    "                type=\"ophidia\",\n",
    "                operator='oph_importnc',\n",
    "                arguments={'measure': '.....', \n",
    "                           'import_metadata': 'yes',\n",
    "                           'imp_dim': 'time', \n",
    "                           'imp_concept_level': 'd',\n",
    "                           'hierarchy': 'oph_base|oph_base|oph_time',\n",
    "                           'description': 'Max Temp imported',\n",
    "                           'input': '.....'},\n",
    "                dependencies={...:''})\n",
    "t8 = e1.newTask(name=\"Subset data\",\n",
    "                type=\"ophidia\",\n",
    "                operator='oph_subset', \n",
    "                arguments={'subset_filter': '.....', \n",
    "                           'subset_dims': '.....', \n",
    "                           'subset_type': 'coord', \n",
    "                           'description': 'Max Temp subsetted'},\n",
    "                dependencies={t7:'.....'})"
   ]
  },
  {
   "cell_type": "markdown",
   "metadata": {},
   "source": [
    "<hr style=\"height:1px;border-top:1px solid #0000FF\" />"
   ]
  },
  {
   "cell_type": "markdown",
   "metadata": {},
   "source": [
    "As last task, close the selection block ```if``` adding the proper dependencies."
   ]
  },
  {
   "cell_type": "code",
   "execution_count": null,
   "metadata": {},
   "outputs": [],
   "source": [
    "t9 = e1.newTask(name=\"ENDIF block\",\n",
    "                type=\"control\",\n",
    "                operator='endif',\n",
    "                arguments={},\n",
    "                dependencies={...:'', ...:'', ...:''})"
   ]
  },
  {
   "cell_type": "markdown",
   "metadata": {},
   "source": [
    "<hr style=\"height:1px;border-top:1px solid #0000FF\" />"
   ]
  },
  {
   "cell_type": "markdown",
   "metadata": {},
   "source": [
    "We can check the workflow structure before submit it. "
   ]
  },
  {
   "cell_type": "code",
   "execution_count": null,
   "metadata": {},
   "outputs": [],
   "source": [
    "e1.check(visual=True)"
   ]
  },
  {
   "cell_type": "markdown",
   "metadata": {},
   "source": [
    "<hr style=\"height:1px;border-top:1px solid #0000FF\" />"
   ]
  },
  {
   "cell_type": "markdown",
   "metadata": {},
   "source": [
    "And now, if everything is fine, we are ready to run the workflow with different input parameters to test the three possible branches!\n",
    "\n",
    "**First case**: new datacube randomly generated inside a container named \"workflow\"\n",
    "    \n",
    " <img src=\"../imgs/Selection_Interface_randcube.svg\" alt=\"Selection_Interface_randcube\" width=\"200\">\n",
    " \n",
    "**Second case**: datacube first imported, then subsetted\n",
    "\n",
    "<img src=\"../imgs/Selection_Interface_import+subset.svg\" alt=\"Selection_Interface_import+subset\" width=\"200\">\n",
    "\n",
    "**Third case**: datacube imported and subsetted at the same time\n",
    "    \n",
    " <img src=\"../imgs/Selection_Interface_importANDsubset.svg\" alt=\"Selection_Interface_importANDsubset\" width=\"200\">"
   ]
  },
  {
   "cell_type": "markdown",
   "metadata": {},
   "source": [
    "<hr style=\"height:1px;border-top:1px solid #0000FF\" />"
   ]
  },
  {
   "cell_type": "markdown",
   "metadata": {},
   "source": [
    "Define the workflow arguments:"
   ]
  },
  {
   "cell_type": "code",
   "execution_count": null,
   "metadata": {},
   "outputs": [],
   "source": [
    "# Try all the possible options!\n",
    "if_cond=...\n",
    "elseif_cond=...\n",
    "\n",
    "file=\"/home/ophidia/notebooks/tasmax_day_CMCC-CESM_rcp85_r1i1p1_20960101-21001231.nc\"\n",
    "variable=\"tasmax\"\n",
    "\n",
    "# Try yourself with different filters!\n",
    "lat_lon_time=\"-50:10|20:140|150:240\" "
   ]
  },
  {
   "cell_type": "markdown",
   "metadata": {},
   "source": [
    "<hr style=\"height:1px;border-top:1px solid #0000FF\" />"
   ]
  },
  {
   "cell_type": "markdown",
   "metadata": {},
   "source": [
    "Run the workflow specifying the arguments in the proper order."
   ]
  },
  {
   "cell_type": "code",
   "execution_count": null,
   "metadata": {},
   "outputs": [],
   "source": [
    "w1 = Workflow(e1)\n",
    "w1.submit(......, ......, ......, ......, ......)"
   ]
  },
  {
   "cell_type": "markdown",
   "metadata": {},
   "source": [
    "<hr style=\"height:1px;border-top:1px solid #0000FF\" />"
   ]
  },
  {
   "cell_type": "markdown",
   "metadata": {},
   "source": [
    "Monitor the experiment execution graph"
   ]
  },
  {
   "cell_type": "code",
   "execution_count": null,
   "metadata": {},
   "outputs": [],
   "source": [
    "w1.monitor(frequency=1, iterative=True, visual_mode=True)"
   ]
  },
  {
   "cell_type": "markdown",
   "metadata": {},
   "source": [
    "<hr style=\"height:1px;border-top:1px solid #0000FF\" />"
   ]
  },
  {
   "cell_type": "markdown",
   "metadata": {},
   "source": [
    "Check your workspace"
   ]
  },
  {
   "cell_type": "code",
   "execution_count": null,
   "metadata": {},
   "outputs": [],
   "source": [
    "cube.Cube.list(level=2)"
   ]
  },
  {
   "cell_type": "markdown",
   "metadata": {},
   "source": [
    "<hr style=\"height:1px;border-top:1px solid #0000FF\" />"
   ]
  },
  {
   "cell_type": "markdown",
   "metadata": {},
   "source": [
    "Empty your workspace before running the workflow again"
   ]
  },
  {
   "cell_type": "code",
   "execution_count": null,
   "metadata": {},
   "outputs": [],
   "source": [
    "cube.Cube.deletecontainer(container=\".....\",force='yes')\n",
    "cube.Cube.deletecontainer(container=\"tasmax_day_CMCC-CESM_rcp85_r1i1p1_20960101-21001231.nc\",force='yes')"
   ]
  },
  {
   "cell_type": "markdown",
   "metadata": {},
   "source": [
    "**NOTE:** You can check the completed exercise in the hands-on folder in the [**Selection_interface-filled.ipynb**](../Hands-on/3-Selection_interface-filled.ipynb)."
   ]
  }
 ],
 "metadata": {
  "kernelspec": {
   "display_name": "Python 3 (ipykernel)",
   "language": "python",
   "name": "python3"
  },
  "language_info": {
   "codemirror_mode": {
    "name": "ipython",
    "version": 3
   },
   "file_extension": ".py",
   "mimetype": "text/x-python",
   "name": "python",
   "nbconvert_exporter": "python",
   "pygments_lexer": "ipython3",
   "version": "3.8.13"
  }
 },
 "nbformat": 4,
 "nbformat_minor": 4
}

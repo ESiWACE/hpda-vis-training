{
 "cells": [
  {
   "cell_type": "markdown",
   "metadata": {},
   "source": [
    "# Compute the Summer Days Climate Index for several years\n",
    "\n",
    "Starting from the [**Summer Days workflow**](../Examples/Summer_Days_workflow.ipynb) example for the computation of the **Summer Days index** for one input NetCDF data set, the index can be computed for several years in parallel by exploiting the **iterative and parallel interfaces** made available by the Ophidia Workflow Management System.\n",
    "\n",
    "**Summer Days index**: number of days where daily maximum temperature $TX > T$ (T is  a reference temperature, e.g. 25°C)\n"
   ]
  },
  {
   "cell_type": "markdown",
   "metadata": {},
   "source": [
    "As first step, let's connect to the Ophidia Server and import the necessary modules"
   ]
  },
  {
   "cell_type": "code",
   "execution_count": null,
   "metadata": {},
   "outputs": [],
   "source": [
    "from esdm_pav_client import Workflow, Experiment, Task\n",
    "import sys\n",
    "from PyOphidia import cube,client\n",
    "cube.Cube.setclient(read_env=True)"
   ]
  },
  {
   "cell_type": "markdown",
   "metadata": {},
   "source": [
    "<hr style=\"height:1px;border-top:1px solid #0000FF\" />"
   ]
  },
  {
   "cell_type": "markdown",
   "metadata": {},
   "source": [
    "As input files, we can use the daily NetCDF files produced by the CMCC-CESM model and related to the tasmax variable for the years 2096-2100. "
   ]
  },
  {
   "cell_type": "code",
   "execution_count": null,
   "metadata": {},
   "outputs": [],
   "source": [
    "import glob\n",
    "glob.glob('/home/ophidia/notebooks/tasmax_*.nc')"
   ]
  },
  {
   "cell_type": "markdown",
   "metadata": {},
   "source": [
    "<hr style=\"height:1px;border-top:1px solid #0000FF\" />"
   ]
  },
  {
   "cell_type": "markdown",
   "metadata": {},
   "source": [
    "The overall workflow structure is the following:\n",
    "    \n",
    "<img src=\"../imgs/Summer_Days_over_several_year.svg\" alt=\"Summer_Days_over_several_year\">"
   ]
  },
  {
   "cell_type": "markdown",
   "metadata": {},
   "source": [
    "<hr style=\"height:1px;border-top:1px solid #0000FF\" />"
   ]
  },
  {
   "cell_type": "markdown",
   "metadata": {},
   "source": [
    "To exploit the iterative and parallel interfaces we just need to use the **For Statement**, i.e. the pair of operators **FOR** (with the *parallel* option enabled) and **ENDFOR**.\n",
    "\n",
    "Let's try to build the workflow step-by-step:\n",
    "\n",
    "We  need to define the global workflow information followed by the various tasks. Try to complete the various tasks by filling in the missing arguments identified by ```.....```\n",
    "\n",
    "1. **Create container**\n",
    " - We use the *oph_createcontainer* (see http://ophidia.cmcc.it/documentation/users/operators/OPH_CREATECONTAINER.html) to create an empty container in order to organize all the datacubes imported and produced during the workflow execution"
   ]
  },
  {
   "cell_type": "code",
   "execution_count": null,
   "metadata": {},
   "outputs": [],
   "source": [
    "e1 = Experiment(\n",
    "    name= \"Summer Days over several year\",\n",
    "    author= \"CMCC\",\n",
    "    abstract= \"Summer Days index over several years\",\n",
    "    exec_mode= \"sync\",\n",
    "    ncores=\"1\"\n",
    ")\n",
    "\n",
    "t1 = e1.newTask(name=\"Create container\",\n",
    "                type=\"ophidia\",\n",
    "                operator='oph_createcontainer',\n",
    "                on_error='skip',\n",
    "                arguments={'container': 'summer_days',\n",
    "                           'dim': 'lat|lon|time',\n",
    "                           'dim_type': 'double|double|double',\n",
    "                           'hierarchy': 'oph_base|oph_base|oph_time'})"
   ]
  },
  {
   "cell_type": "markdown",
   "metadata": {},
   "source": [
    "<hr style=\"height:1px;border-top:1px solid #0000FF\" />"
   ]
  },
  {
   "cell_type": "markdown",
   "metadata": {},
   "source": [
    "The **IMPORT**, **MASK**, **COUNT** and **EXPORT** tasks have to be executed for each of the input years.\n",
    "So, we use the **FOR** operator to configure the iterative block and, in particular, to set the number N of loops to be executed. \n",
    "\n",
    "2. **Start loop**\n",
    " - the **values** argument is an ordered list of N labels (pipe-separated years) to be assigned to cycles (i.e., the years from 2096 to 2100) \n",
    " - the **parallel** option is enabled (```yes```)\n",
    " - each label value can be read in the inner tasks by using ```@{year}``` as indicated in the **key** argument\n",
    " - a dependency from the previous task is required\n",
    "\n",
    "Each inner task depends on FOR in order to exploit the value of the label associated with the current iteration. "
   ]
  },
  {
   "cell_type": "code",
   "execution_count": null,
   "metadata": {},
   "outputs": [],
   "source": [
    "t2 = e1.newTask(name=\"Start loop\",\n",
    "                type=\"control\",\n",
    "                operator='for',\n",
    "                arguments={\"key\": \"year\", \"values\": \"2096|2097|2098|2099|2100\", \"parallel\": \"yes\"},\n",
    "                dependencies={t1:''})"
   ]
  },
  {
   "cell_type": "markdown",
   "metadata": {},
   "source": [
    "<hr style=\"height:1px;border-top:1px solid #0000FF\" />"
   ]
  },
  {
   "cell_type": "markdown",
   "metadata": {},
   "source": [
    "3. **Import**\n",
    " - the *input* and the *description* parameters in the *oph_importnc* operator are defined in a parametrized way to get the current value of the *year* key for each iteration\n",
    " - the task has a simple flow dependency from the \"Start loop\" task"
   ]
  },
  {
   "cell_type": "code",
   "execution_count": null,
   "metadata": {},
   "outputs": [],
   "source": [
    "t3 = e1.newTask(name=\"Import\",\n",
    "                type=\"ophidia\",\n",
    "                operator='oph_importnc',\n",
    "                arguments={'measure': '$1', \n",
    "                           'container':'summer_days', \n",
    "                           'import_metadata': 'yes',\n",
    "                           'imp_dim': 'time', \n",
    "                           'imp_concept_level': 'd',\n",
    "                           'hierarchy': 'oph_base|oph_base|oph_time',\n",
    "                           'description': 'Max Temp @{year}',\n",
    "                           'input': '/home/ophidia/notebooks/tasmax_day_CMCC-CESM_rcp85_r1i1p1_@{year}0101-@{year}1231.nc'},\n",
    "                dependencies={t2:''})"
   ]
  },
  {
   "cell_type": "markdown",
   "metadata": {},
   "source": [
    "<hr style=\"height:1px;border-top:1px solid #0000FF\" />"
   ]
  },
  {
   "cell_type": "markdown",
   "metadata": {},
   "source": [
    "4. **Summer Days mask**\n",
    " - the *oph_apply* operator (jointly with the *oph_predicate* primitive) is used to identify the summer days: $\\{day \\mid TX(day) > 298.15\\}$ \n",
    " - the task has a data dependency from the *Import* task"
   ]
  },
  {
   "cell_type": "code",
   "execution_count": null,
   "metadata": {},
   "outputs": [],
   "source": [
    "t4 = e1.newTask(name=\"Summer Days mask\",\n",
    "                type=\"ophidia\",\n",
    "                operator='oph_apply', \n",
    "                arguments={'measure_type': 'auto', \n",
    "                           'query': \"oph_predicate(measure,'x-298.15','>0','1','0')\", \n",
    "                           'description': 'Summer days mask @{year}'},\n",
    "                dependencies={t3:'cube'})"
   ]
  },
  {
   "cell_type": "markdown",
   "metadata": {},
   "source": [
    "<hr style=\"height:1px;border-top:1px solid #0000FF\" />"
   ]
  },
  {
   "cell_type": "markdown",
   "metadata": {},
   "source": [
    "5. **Count summer days**\n",
    " - count days over the given threshold on yearly basis by using the *oph_reduce2* operator\n",
    " - a dependency from *Summer Days mask*"
   ]
  },
  {
   "cell_type": "code",
   "execution_count": null,
   "metadata": {},
   "outputs": [],
   "source": [
    "t5 = e1.newTask(name=\"Count summer days\",\n",
    "                type=\"ophidia\",\n",
    "                operator='oph_reduce2', \n",
    "                arguments={'operation': 'sum', \n",
    "                           'dim': 'time', \n",
    "                           'concept_level': 'y',\n",
    "                           'description': 'Summer Days Count @{year}'},\n",
    "                dependencies={t4:'cube'})"
   ]
  },
  {
   "cell_type": "markdown",
   "metadata": {},
   "source": [
    "<hr style=\"height:1px;border-top:1px solid #0000FF\" />"
   ]
  },
  {
   "cell_type": "markdown",
   "metadata": {},
   "source": [
    "6. **Export**\n",
    " - each Summer Days index is exported to a NetCDF file by using the *oph_exportnc2* operator \n",
    " - a dependency from *Count summer days*"
   ]
  },
  {
   "cell_type": "code",
   "execution_count": null,
   "metadata": {},
   "outputs": [],
   "source": [
    "t6 = e1.newTask(name=\"Export\",\n",
    "                type=\"ophidia\",\n",
    "                operator='oph_exportnc2', \n",
    "                arguments={'output': '/home/ophidia/notebooks/summer_days_@{year}.nc'},\n",
    "                dependencies={t5:'cube'})"
   ]
  },
  {
   "cell_type": "markdown",
   "metadata": {},
   "source": [
    "<hr style=\"height:1px;border-top:1px solid #0000FF\" />"
   ]
  },
  {
   "cell_type": "markdown",
   "metadata": {},
   "source": [
    "The iterative block ends by means of the **ENDFOR** operator.\n",
    "\n",
    "7. **End loop**\n",
    " - *endfor* operator\n",
    " - a dependency from **Export** task"
   ]
  },
  {
   "cell_type": "code",
   "execution_count": null,
   "metadata": {},
   "outputs": [],
   "source": [
    "t7 = e1.newTask(name=\"End loop\",\n",
    "                type=\"control\",\n",
    "                operator='endfor',\n",
    "                arguments={},\n",
    "                dependencies={t6:'cube'})"
   ]
  },
  {
   "cell_type": "markdown",
   "metadata": {},
   "source": [
    "<hr style=\"height:1px;border-top:1px solid #0000FF\" />"
   ]
  },
  {
   "cell_type": "markdown",
   "metadata": {},
   "source": [
    "Check the workflow structure"
   ]
  },
  {
   "cell_type": "code",
   "execution_count": null,
   "metadata": {},
   "outputs": [],
   "source": [
    "e1.check(visual=True)"
   ]
  },
  {
   "cell_type": "markdown",
   "metadata": {},
   "source": [
    "<hr style=\"height:1px;border-top:1px solid #0000FF\" />"
   ]
  },
  {
   "cell_type": "markdown",
   "metadata": {},
   "source": [
    "Submit the workflow and monitor its execution graph"
   ]
  },
  {
   "cell_type": "code",
   "execution_count": null,
   "metadata": {},
   "outputs": [],
   "source": [
    "w1 = Workflow(e1)\n",
    "w1.submit(\"tasmax\")"
   ]
  },
  {
   "cell_type": "code",
   "execution_count": null,
   "metadata": {
    "tags": []
   },
   "outputs": [],
   "source": [
    "w1.monitor(frequency=1, iterative=True, visual_mode=True)"
   ]
  },
  {
   "cell_type": "markdown",
   "metadata": {},
   "source": [
    "<hr style=\"height:1px;border-top:1px solid #0000FF\" />"
   ]
  },
  {
   "cell_type": "markdown",
   "metadata": {},
   "source": [
    "Run the following command. You should see a netCDF file for each year:\n",
    "- summer_days_2096.nc\n",
    "- summer_days_2097.nc\n",
    "- summer_days_2098.nc\n",
    "- summer_days_2099.nc\n",
    "- summer_days_2100.nc"
   ]
  },
  {
   "cell_type": "code",
   "execution_count": null,
   "metadata": {},
   "outputs": [],
   "source": [
    "import glob\n",
    "glob.glob('/home/ophidia/notebooks/summer_*.nc')"
   ]
  },
  {
   "cell_type": "markdown",
   "metadata": {},
   "source": [
    "List the datacubes produced"
   ]
  },
  {
   "cell_type": "code",
   "execution_count": null,
   "metadata": {},
   "outputs": [],
   "source": [
    "cube.Cube.list(level=2)"
   ]
  },
  {
   "cell_type": "markdown",
   "metadata": {},
   "source": [
    "Let's plot a map for each year by considering the PIDs associated to the **Summer Days Count @{year}** datacubes. Starting from the output of the previous command, we can define an array of PIDs (sorted by year) and use it in the code below."
   ]
  },
  {
   "cell_type": "code",
   "execution_count": null,
   "metadata": {},
   "outputs": [],
   "source": [
    "pids = [\"http://127.0.0.1/ophidia/.../...\",\"http://127.0.0.1/ophidia/.../...\",\n",
    "       \"http://127.0.0.1/ophidia/.../...\",\"http://127.0.0.1/ophidia/.../...\",\"http://127.0.0.1/ophidia/.../...\"]"
   ]
  },
  {
   "cell_type": "code",
   "execution_count": null,
   "metadata": {},
   "outputs": [],
   "source": [
    "%matplotlib inline\n",
    "import cartopy.crs as ccrs\n",
    "import matplotlib.pyplot as plt\n",
    "from cartopy.mpl.geoaxes import GeoAxes\n",
    "from cartopy.util import add_cyclic_point\n",
    "import numpy as np\n",
    "import warnings\n",
    "warnings.filterwarnings(\"ignore\")\n",
    "\n",
    "titles = [\"Summer Days (year 2096)\",\"Summer Days (year 2097)\",\"Summer Days (year 2098)\",\"Summer Days (year 2099)\",\"Summer Days (year 2100)\"]\n",
    "\n",
    "#Add Geo axes to the figure with the specified projection (PlateCarree)\n",
    "projection = ccrs.PlateCarree()\n",
    "fig, axes = plt.subplots(nrows=3,ncols=2, figsize=(18, 12), subplot_kw={'projection': projection})\n",
    "fig.delaxes(axes[2][1])\n",
    "\n",
    "for v,ax in enumerate(axes.flat):\n",
    "    \n",
    "    try:\n",
    "        datacube = cube.Cube(pid=pids[v])\n",
    "        data = datacube.export_array(show_time='yes')\n",
    "        lat = data['dimension'][0]['values'][ : ]\n",
    "        lon = data['dimension'][1]['values'][ : ]\n",
    "        var = data['measure'][0]['values'][ : ]\n",
    "        var = np.reshape(var, (len(lat), len(lon)))\n",
    "    except:\n",
    "         continue\n",
    "            \n",
    "    #Draw coastline and gridlines\n",
    "    ax.coastlines()\n",
    "\n",
    "    gl = ax.gridlines(crs=projection, draw_labels=True, linewidth=1, color='black', alpha=0.9, linestyle=':')\n",
    "    gl.xlabels_top = False\n",
    "    gl.ylabels_right = False\n",
    "\n",
    "    #Wraparound points in longitude\n",
    "    var_cyclic, lon_cyclic = add_cyclic_point(var, coord=np.asarray(lon))\n",
    "    x, y = np.meshgrid(lon_cyclic,lat)\n",
    "\n",
    "    #Define color levels for color bar\n",
    "    levStep = (np.nanmax(var)-np.nanmin(var))/20\n",
    "    clevs = np.arange(np.nanmin(var),np.nanmax(var)+levStep,levStep)\n",
    "\n",
    "    #Set filled contour plot\n",
    "    cnplot = ax.contourf(x, y, var_cyclic, clevs, transform=projection,cmap=plt.cm.Oranges)\n",
    "    ax.set_title(titles[v])\n",
    "    plt.colorbar(cnplot,ax=ax)\n",
    "\n",
    "    ax.set_aspect('auto', adjustable=None)\n",
    "\n",
    "plt.show()"
   ]
  },
  {
   "cell_type": "markdown",
   "metadata": {},
   "source": [
    "Clear the cube space before running the other workflows"
   ]
  },
  {
   "cell_type": "code",
   "execution_count": null,
   "metadata": {},
   "outputs": [],
   "source": [
    "cube.Cube.deletecontainer(container=\"summer_days\",force='yes')"
   ]
  },
  {
   "cell_type": "markdown",
   "metadata": {},
   "source": [
    "You can now move to the last hands-on notebook [**3-Selection_interface**](3-Selection_interface.ipynb)."
   ]
  }
 ],
 "metadata": {
  "kernelspec": {
   "display_name": "Python 3 (ipykernel)",
   "language": "python",
   "name": "python3"
  },
  "language_info": {
   "codemirror_mode": {
    "name": "ipython",
    "version": 3
   },
   "file_extension": ".py",
   "mimetype": "text/x-python",
   "name": "python",
   "nbconvert_exporter": "python",
   "pygments_lexer": "ipython3",
   "version": "3.8.13"
  }
 },
 "nbformat": 4,
 "nbformat_minor": 4
}

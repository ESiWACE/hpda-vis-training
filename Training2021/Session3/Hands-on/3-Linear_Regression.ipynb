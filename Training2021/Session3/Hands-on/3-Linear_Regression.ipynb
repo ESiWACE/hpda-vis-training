{
 "cells": [
  {
   "cell_type": "markdown",
   "metadata": {},
   "source": [
    "## Exercise: compute the trend of a time series \n",
    "\n",
    "In this notebook you're going to perform a linear regression on time series data by exploiting *PyOphidia*, *numpy* and *matplotlib* for the visualization. The goal is to extract the trend of the time series. Also in this cases some of the code/arguments are missing and have to be properly completed.\n",
    "\n",
    "Some hints to implement this analysis:\n",
    "\n",
    "1. you can adapt on the code from the previous example to import data;\n",
    "2. extract a single time series point, such as the first *latitude* and *longitude* before running the regression function;\n",
    "3. in order to get the time series trend you can use the *apply* operator (take a moment to look a the documentation http://ophidia.cmcc.it/documentation/users/operators/OPH_APPLY.html) with the *oph_gsl_fit_linear* primitive (again check the documentation: http://ophidia.cmcc.it/documentation/users/primitives/OPH_GSL_FIT_LINEAR_COEFF.html).\n",
    "\n",
    "```python\n",
    "mycube.apply(query=\"oph_gsl_fit_linear_coeff('OPH_FLOAT','OPH_FLOAT',measure, dimension,...)\")\n",
    "```\n",
    "\n",
    "The last argument of the primitives defines the information to be computed by the primitive. Set it based upon the analysis requirements.\n",
    "\n",
    "Let's start\n",
    "\n",
    "## 1. Run the analytics operators\n",
    "\n",
    "1- First of all import the PyOphidia modules and connect to the server-side (as done in the previous notebooks)"
   ]
  },
  {
   "cell_type": "code",
   "execution_count": null,
   "metadata": {},
   "outputs": [],
   "source": [
    "#PLACE THE CODE HERE"
   ]
  },
  {
   "cell_type": "markdown",
   "metadata": {},
   "source": [
    "2- Load the *tasmin* variable from the input dataset located at ```/home/ophidia/notebooks/tasmin_day_CMCC-CESM_rcp85_r1i1p1_20960101-21001231.nc```. Make sure to import the data so that it is time-array oriented.\n",
    "\n",
    "**HINT**: To get an idea of the input dataset structure, dimension and metadata run the following command"
   ]
  },
  {
   "cell_type": "code",
   "execution_count": null,
   "metadata": {},
   "outputs": [],
   "source": [
    "cube.Cube.explorenc(src_path='/home/ophidia/notebooks/tasmin_day_CMCC-CESM_rcp85_r1i1p1_20960101-21001231.nc')"
   ]
  },
  {
   "cell_type": "code",
   "execution_count": null,
   "metadata": {},
   "outputs": [],
   "source": [
    "#COMPLETE THE IMPORT CODE\n",
    "mintemp = cube.Cube.importnc(\n",
    "    src_path=...,\n",
    "    measure=...,\n",
    "    imp_dim=...,\n",
    "    description='Min Temps'\n",
    ")"
   ]
  },
  {
   "cell_type": "markdown",
   "metadata": {},
   "source": [
    "3- Extract a single time series from the imported cube *(just consider the first index for latitute and longitude)* and try to print its content"
   ]
  },
  {
   "cell_type": "code",
   "execution_count": null,
   "metadata": {},
   "outputs": [],
   "source": [
    "#COMPLETE THE SUBSET CODE\n",
    "singleTS = mintemp.subset(\n",
    "    subset_dims=...,\n",
    "    subset_filter=...,\n",
    "    subset_type='index'\n",
    ")\n",
    "\n",
    "singleTS.explore()"
   ]
  },
  {
   "cell_type": "markdown",
   "metadata": {},
   "source": [
    "4- Run the Ophidia primitive to perform the linear regression over the time series.\n",
    "\n",
    "**NOTE:** try to compute the intercept and slope. The intercept will provide an idea of the trend (positive, negative or zero trend)."
   ]
  },
  {
   "cell_type": "code",
   "execution_count": null,
   "metadata": {},
   "outputs": [],
   "source": [
    "#COMPLETE THE APPLY OPERATOR CODE\n",
    "trendCube = singleTS.apply(\n",
    "    query=...,\n",
    "    check_type='no')"
   ]
  },
  {
   "cell_type": "markdown",
   "metadata": {},
   "source": [
    "## 2. Display results\n",
    "\n",
    "5- Try to plot the data with respect to the time dimensions (indexes), as well as the linear regression line (based on the slope and intercept computed with Ophidia) in a scatter plot. A skeleton of the plotting code is available in the cell.\n",
    "\n",
    "**HINT:** The dependent variable is the output temperature, the independent variable is the time dimension (daily indexes). "
   ]
  },
  {
   "cell_type": "code",
   "execution_count": null,
   "metadata": {},
   "outputs": [],
   "source": [
    "#COMPLETE THE CODE HERE\n",
    "%matplotlib inline\n",
    "#data from the single time series\n",
    "data = singleTS...\n",
    "#data from the regression function\n",
    "trendCoeff = trendCube...\n",
    "\n",
    "import matplotlib.pyplot as plt\n",
    "import matplotlib.lines as mlines\n",
    "import matplotlib.transforms as mtransforms\n",
    "import numpy as np\n",
    "\n",
    "y = data['...'][0]['values'][0][:]\n",
    "x = data['...'][2]['values'][:]\n",
    "fig, ax = plt.subplots(figsize=(11, 3), dpi=100)\n",
    "ax.scatter(x, y)\n",
    "\n",
    "intercept = trendCoeff['...'][0]['values'][0][0]\n",
    "slope = trendCoeff['...'][0]['values'][0][1]\n",
    "\n",
    "line = intercept + slope * np.array(x)\n",
    "ax.plot(x,line, color='red')\n",
    "\n",
    "plt.ylabel(data['measure'][0]['name'] + \" (degK)\")\n",
    "plt.xlabel(\"Days since 2096/01/01\")\n",
    "plt.title('Minimum Near-Surface Air Temperature')\n",
    "plt.show()"
   ]
  },
  {
   "cell_type": "markdown",
   "metadata": {},
   "source": [
    "## 3. Final remarks\n",
    "\n",
    "**NOTE:** You can find a sample implementation of this exercise in the *Examples* folder in the notebook [**Linear_regression_example**](../Examples/Linear_regression.ipynb)"
   ]
  },
  {
   "cell_type": "markdown",
   "metadata": {},
   "source": [
    "Finally clear your workspace from the datacubes produced during the experiments."
   ]
  },
  {
   "cell_type": "code",
   "execution_count": null,
   "metadata": {},
   "outputs": [],
   "source": [
    "cube.Cube.deletecontainer(container='tasmin_day_CMCC-CESM_rcp85_r1i1p1_20960101-21001231.nc',force='yes')"
   ]
  },
  {
   "cell_type": "markdown",
   "metadata": {},
   "source": [
    "You have now completed the full set of hands-on notebooks! If you are insterested in more examples you check the [**Examples**](../Examples/) folder."
   ]
  }
 ],
 "metadata": {
  "kernelspec": {
   "display_name": "Python 3",
   "language": "python",
   "name": "python3"
  },
  "language_info": {
   "codemirror_mode": {
    "name": "ipython",
    "version": 3
   },
   "file_extension": ".py",
   "mimetype": "text/x-python",
   "name": "python",
   "nbconvert_exporter": "python",
   "pygments_lexer": "ipython3",
   "version": "3.6.8"
  }
 },
 "nbformat": 4,
 "nbformat_minor": 2
}

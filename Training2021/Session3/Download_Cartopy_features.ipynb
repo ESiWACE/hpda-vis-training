{
 "cells": [
  {
   "cell_type": "code",
   "execution_count": null,
   "id": "ea6d1afd",
   "metadata": {},
   "outputs": [],
   "source": [
    "!wget https://raw.githubusercontent.com/SciTools/cartopy/master/tools/cartopy_feature_download.py"
   ]
  },
  {
   "cell_type": "code",
   "execution_count": null,
   "id": "cd25ce58",
   "metadata": {},
   "outputs": [],
   "source": [
    "!python3 cartopy_feature_download.py physical"
   ]
  }
 ],
 "metadata": {
  "kernelspec": {
   "display_name": "Python 3",
   "language": "python",
   "name": "python3"
  },
  "language_info": {
   "codemirror_mode": {
    "name": "ipython",
    "version": 3
   },
   "file_extension": ".py",
   "mimetype": "text/x-python",
   "name": "python",
   "nbconvert_exporter": "python",
   "pygments_lexer": "ipython3",
   "version": "3.6.8"
  }
 },
 "nbformat": 4,
 "nbformat_minor": 5
}

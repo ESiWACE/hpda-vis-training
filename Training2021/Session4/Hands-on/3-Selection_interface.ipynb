{
 "cells": [
  {
   "cell_type": "markdown",
   "metadata": {},
   "source": [
    "## Selection statement with more than two selection blocks\n",
    "\n",
    "Try to implement a workflow in which all the operators of the selection interface *(OPH_IF, OPH_ELSEIF, OPH_ELSE, OPH_ENDIF)* are adopted."
   ]
  },
  {
   "cell_type": "markdown",
   "metadata": {},
   "source": [
    "The following figure shows the graphical representation of a possible workflow.\n",
    "\n",
    "<img src=\"../imgs/Selection_Interface.svg\" alt=\"Selection_Interface\" width=\"300\">\n",
    "\n",
    "The corresponding pseudo-code could be something like this:\n",
    "\n",
    "    if flag1 == 1:\n",
    "        Import a NetCDF file and subset it at the same time\n",
    "    else \n",
    "        if flag2 == 1:\n",
    "            Create a container and then a new datacube with random data and dimensions\n",
    "        else\n",
    "            Import a NetCDF file, then perform a subset operation over the datacube dimensions"
   ]
  },
  {
   "cell_type": "markdown",
   "metadata": {},
   "source": [
    "As first step, connect to the Ophidia Server"
   ]
  },
  {
   "cell_type": "code",
   "execution_count": null,
   "metadata": {},
   "outputs": [],
   "source": [
    "import sys\n",
    "from PyOphidia import cube,client\n",
    "cube.Cube.setclient(read_env=True)"
   ]
  },
  {
   "cell_type": "markdown",
   "metadata": {},
   "source": [
    "Let's try to build step-by-step the JSON object associated to the workflow, by completing the missing arguments (```.....```).\n",
    "\n",
    "**Some hints:**\n",
    "   - the task ```OPH_ELSEIF``` has to be a child of ```OPH_IF``` or another ```OPH_ELSEIF```\n",
    "   - the task ```OPH_ELSE``` could be a child of ```OPH_ELSEIF``` and must be child of ```OPH_IF```\n",
    "   - the last task of any branch should be added as a dependency of the ```OPH_ENDIF``` task\n",
    "   - the workflow has the following arguments:\n",
    "       -  *if condition* ```$1```\n",
    "       -  *elseif condition* ```$2```\n",
    "       -  *NetCDF filename* ```$3```\n",
    "       -  *variable* to be imported ```$4```\n",
    "       -  *subset filter* (lat|lon|time) ```$5```\n",
    " "
   ]
  },
  {
   "cell_type": "markdown",
   "metadata": {},
   "source": [
    "First of all, we need to define the global workflow information."
   ]
  },
  {
   "cell_type": "code",
   "execution_count": null,
   "metadata": {},
   "outputs": [],
   "source": [
    "workflow_if_endif_else = \"\"\"{\n",
    "        \"name\": \"Selection Interface\",\n",
    "        \"author\": \"CMCC\",\n",
    "        \"abstract\": \"Selection statement with more than two selection blocks\",\n",
    "        \"exec_mode\": \"sync\",\n",
    "        \"ncores\": \"1\",\n",
    "        \"tasks\":\n",
    "        [\n",
    "\"\"\""
   ]
  },
  {
   "cell_type": "markdown",
   "metadata": {},
   "source": [
    "**IF block**\n",
    "\n",
    "Open a ```if``` selection block and start the first selection sub-block.\n",
    "\n",
    "The boolean expression to be checked is the first argument of the workflow: if ```true``` (a *numerical non-zero value*), the tasks depending on this task are executed, whereas the tasks associated with the following selection sub-blocks are skipped; if ```false``` (a *zero value*), the tasks depending on this task are skipped, whereas the tasks associated with the following selection sub-block are executed."
   ]
  },
  {
   "cell_type": "code",
   "execution_count": null,
   "metadata": {},
   "outputs": [],
   "source": [
    "workflow_if_endif_else += \"\"\"\n",
    "                {\n",
    "                        \"name\": \"IF block\",\n",
    "                        \"operator\": \".....\",\n",
    "                        \"arguments\": [ \"condition=$1\" ]\n",
    "                },\n",
    "\"\"\""
   ]
  },
  {
   "cell_type": "markdown",
   "metadata": {},
   "source": [
    "If the first condition is ```true```, use the ```oph_importnc``` operator to import and subset a NetCDF file at the same time. Note use the workflow variables ```$N``` for the import operator arguments."
   ]
  },
  {
   "cell_type": "code",
   "execution_count": null,
   "metadata": {},
   "outputs": [],
   "source": [
    "workflow_if_endif_else += \"\"\"\n",
    "                {\n",
    "                        \"name\": \"Import and subset\",\n",
    "                        \"operator\": \".....\",\n",
    "                        \"arguments\":\n",
    "                        [\n",
    "                                \"src_path=.....\",\n",
    "                                \"measure=.....\",\n",
    "                                \"import_metadata=yes\",\n",
    "                                \"imp_dim=time\",\n",
    "                                \"imp_concept_level=d\",\n",
    "                                \"vocabulary=CF\",\n",
    "                                \"hierarchy=oph_base|oph_base|oph_time\",\n",
    "                                \"description=Max Temp imported and subsetted\",\n",
    "                                \"subset_dims=lat|lon|time\",\n",
    "                                \"subset_filter=.....\",\n",
    "                                \"subset_type=coord\"\n",
    "                        ],\n",
    "                        \"dependencies\":\n",
    "                        [\n",
    "                                { \"task\": \".....\" }\n",
    "                        ]\n",
    "                },\n",
    "\n",
    "\"\"\""
   ]
  },
  {
   "cell_type": "markdown",
   "metadata": {},
   "source": [
    "Start a new sub-block of the selection block ```if```. Here the boolean expression to be checked is the second argument of the workflow."
   ]
  },
  {
   "cell_type": "code",
   "execution_count": null,
   "metadata": {},
   "outputs": [],
   "source": [
    "workflow_if_endif_else += \"\"\"\n",
    "                {\n",
    "                        \"name\": \"ELSEIF block\",\n",
    "                        \"operator\": \"oph_elseif\",\n",
    "                        \"arguments\": [ \"condition=.....\" ],\n",
    "                        \"dependencies\":\n",
    "                        [\n",
    "                                { \"task\": \".....\" }\n",
    "                        ]\n",
    "                },\n",
    "\n",
    "\"\"\""
   ]
  },
  {
   "cell_type": "markdown",
   "metadata": {},
   "source": [
    "If the second condition is ```true```, create an empty container named ```workflow``` and then a new datacube with random data and dimensions."
   ]
  },
  {
   "cell_type": "code",
   "execution_count": null,
   "metadata": {},
   "outputs": [],
   "source": [
    "workflow_if_endif_else += \"\"\"\n",
    "               {\n",
    "                        \"name\": \"Create container\",\n",
    "                        \"operator\": \"oph_createcontainer\",\n",
    "                        \"on_error\": \"skip\",\n",
    "                        \"arguments\": \n",
    "                        [\n",
    "                                \"container=random\",\n",
    "                                \"dim=lat|lon|time\",\n",
    "                                \"dim_type=double|double|double\",\n",
    "                                \"hierarchy=oph_base|oph_base|oph_time\"\n",
    "                        ],\n",
    "                        \"dependencies\":\n",
    "                        [\n",
    "                                { \"task\": \".....\" }\n",
    "                        ]\n",
    "                },\n",
    "                {\n",
    "                        \"name\": \"Randcube\",\n",
    "                        \"operator\": \"oph_randcube\",\n",
    "                        \"arguments\":\n",
    "                        [\n",
    "                                \"container=random\",\n",
    "                                \"measure_type=double\",\n",
    "                                \"exp_ndim=2\",\n",
    "                                \"dim=lat|lon|time\",\n",
    "                                \"concept_level=c|c|d\",\n",
    "                                \"dim_size=16|10|10\",\n",
    "                                \"compressed=yes\",\n",
    "                                \"measure=test_var\",\n",
    "                                \"description=random cube\",\n",
    "                                \"nhost=1\",\n",
    "                                \"nfrag=16\",\n",
    "                                \"ntuple=10\"\n",
    "                        ],\n",
    "                        \"dependencies\":\n",
    "                        [\n",
    "                                { \"task\": \".....\" }\n",
    "                        ]\n",
    "                },\n",
    "\n",
    "\"\"\""
   ]
  },
  {
   "cell_type": "markdown",
   "metadata": {},
   "source": [
    "Start the last sub-block of the selection block ```if```."
   ]
  },
  {
   "cell_type": "code",
   "execution_count": null,
   "metadata": {},
   "outputs": [],
   "source": [
    "workflow_if_endif_else += \"\"\"\n",
    "                {\n",
    "                        \"name\": \"ELSE block\",\n",
    "                        \"operator\": \"oph_else\",\n",
    "                        \"arguments\": [  ],\n",
    "                        \"dependencies\":\n",
    "                        [\n",
    "                                { \"task\": \".....\" }\n",
    "                        ]\n",
    "                },\n",
    "\n",
    "\"\"\""
   ]
  },
  {
   "cell_type": "markdown",
   "metadata": {},
   "source": [
    "If neither of the two conditions is satisfied, first import a NetCDF file, then perform a subset operation over the datacube dimensions."
   ]
  },
  {
   "cell_type": "code",
   "execution_count": null,
   "metadata": {},
   "outputs": [],
   "source": [
    "workflow_if_endif_else += \"\"\"\n",
    "                {\n",
    "                        \"name\": \"Import data\",\n",
    "                        \"operator\": \"oph_importnc\",\n",
    "                        \"arguments\":\n",
    "                        [\n",
    "                                \"src_path=.....\",\n",
    "                                \"measure=.....\",\n",
    "                                \"import_metadata=yes\",\n",
    "                                \"imp_dim=time\",\n",
    "                                \"imp_concept_level=d\",\n",
    "                                \"vocabulary=CF\",\n",
    "                                \"hierarchy=oph_base|oph_base|oph_time\",\n",
    "                                \"description=Max Temp imported\"\n",
    "                        ],\n",
    "                        \"dependencies\":\n",
    "                        [\n",
    "                                { \"task\": \".....\" }\n",
    "                        ]\n",
    "                },\n",
    "                {\n",
    "                        \"name\": \"Subset data\",\n",
    "                        \"operator\": \"oph_subset\",\n",
    "                        \"arguments\":\n",
    "                        [\n",
    "                               \"subset_dims=.....\",\n",
    "                               \"subset_filter=.....\",\n",
    "                               \"subset_type=coord\",\n",
    "                               \"description=Max Temp subsetted\" \n",
    "                        ],\n",
    "                        \"dependencies\":\n",
    "                        [\n",
    "                                { \"task\": \"Import data\", \"type\": \".....\" }\n",
    "                        ]\n",
    "                },\n",
    "\"\"\""
   ]
  },
  {
   "cell_type": "markdown",
   "metadata": {},
   "source": [
    "As last task, close the selection block ```if``` adding the proper depencies."
   ]
  },
  {
   "cell_type": "code",
   "execution_count": null,
   "metadata": {},
   "outputs": [],
   "source": [
    "workflow_if_endif_else += \"\"\"\n",
    "                {\n",
    "                        \"name\": \"Selection block end\",\n",
    "                        \"operator\": \"oph_endif\",\n",
    "                        \"arguments\": [ ],\n",
    "                        \"dependencies\":\n",
    "                        [\n",
    "                                { \"task\": \".....\"},\n",
    "                                { \"task\": \".....\" },\n",
    "                                { \"task\": \".....\" }\n",
    "                        ]\n",
    "                }\n",
    "        ]\n",
    "}\n",
    "\"\"\""
   ]
  },
  {
   "cell_type": "markdown",
   "metadata": {},
   "source": [
    "And now, if everything is fine, we are ready to run the workflow with different input parameters to test the three possible branches!\n",
    "\n",
    "**First case**: new datacube randomly generated inside a container named \"workflow\"\n",
    "    \n",
    " <img src=\"../imgs/Selection_Interface_randcube.svg\" alt=\"Selection_Interface_randcube\" width=\"200\">\n",
    " \n",
    "**Second case**: datacube first imported, then subsetted\n",
    "\n",
    "<img src=\"../imgs/Selection_Interface_import+subset.svg\" alt=\"Selection_Interface_import+subset\" width=\"200\">\n",
    "\n",
    "**Third case**: datacube imported and subsetted at the same time\n",
    "    \n",
    " <img src=\"../imgs/Selection_Interface_importANDsubset.svg\" alt=\"Selection_Interface_importANDsubset\" width=\"200\">"
   ]
  },
  {
   "cell_type": "markdown",
   "metadata": {},
   "source": [
    "Define the workflow arguments:"
   ]
  },
  {
   "cell_type": "code",
   "execution_count": null,
   "metadata": {},
   "outputs": [],
   "source": [
    "# Try all the possible options!\n",
    "if_cond=...\n",
    "elseif_cond=...\n",
    "\n",
    "file=\"/home/ophidia/notebooks/tasmax_day_CMCC-CESM_rcp85_r1i1p1_20960101-21001231.nc\"\n",
    "variable=\"tasmax\"\n",
    "\n",
    "# Try yourself with different filters!\n",
    "lat_lon_time=\"-50:10|20:140|150:240\" "
   ]
  },
  {
   "cell_type": "markdown",
   "metadata": {},
   "source": [
    "Run the workflow specifing the arguments in the proper order."
   ]
  },
  {
   "cell_type": "code",
   "execution_count": null,
   "metadata": {},
   "outputs": [],
   "source": [
    "cube.Cube.client.wsubmit(workflow_if_endif_else, .....)"
   ]
  },
  {
   "cell_type": "markdown",
   "metadata": {},
   "source": [
    "Check your workspace"
   ]
  },
  {
   "cell_type": "code",
   "execution_count": null,
   "metadata": {},
   "outputs": [],
   "source": [
    "cube.Cube.list(level=2)"
   ]
  },
  {
   "cell_type": "markdown",
   "metadata": {},
   "source": [
    "Empty your workspace before running the workflow again"
   ]
  },
  {
   "cell_type": "code",
   "execution_count": null,
   "metadata": {},
   "outputs": [],
   "source": [
    "cube.Cube.deletecontainer(container=\"random\",force='yes')\n",
    "cube.Cube.deletecontainer(container=\"tasmax_day_CMCC-CESM_rcp85_r1i1p1_20960101-21001231.nc\",force='yes')"
   ]
  },
  {
   "cell_type": "markdown",
   "metadata": {},
   "source": [
    "**NOTE:** You can find a sample implementation of this exercise in the *Examples* folder in the notebook [**Selection_interface**](../Examples/Selection_interface_example.ipynb)"
   ]
  }
 ],
 "metadata": {
  "kernelspec": {
   "display_name": "Python 3",
   "language": "python",
   "name": "python3"
  },
  "language_info": {
   "codemirror_mode": {
    "name": "ipython",
    "version": 3
   },
   "file_extension": ".py",
   "mimetype": "text/x-python",
   "name": "python",
   "nbconvert_exporter": "python",
   "pygments_lexer": "ipython3",
   "version": "3.6.8"
  }
 },
 "nbformat": 4,
 "nbformat_minor": 2
}

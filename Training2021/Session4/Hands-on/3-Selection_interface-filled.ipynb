{
 "cells": [
  {
   "cell_type": "markdown",
   "metadata": {},
   "source": [
    "## Selection statement with more than two selection blocks\n",
    "\n",
    "Try to implement a workflow in which all the operators of the selection interface *(OPH_IF, OPH_ELSEIF, OPH_ELSE, OPH_ENDIF)* are adopted."
   ]
  },
  {
   "cell_type": "markdown",
   "metadata": {},
   "source": [
    "The following figure shows the graphical representation of a possible workflow.\n",
    "\n",
    "<img src=\"../imgs/Selection_Interface.svg\" alt=\"Selection_Interface\" width=\"300\">\n",
    "\n",
    "The corresponding pseudo-code could be something like this:\n",
    "\n",
    "    if flag1 == 1:\n",
    "        Import a NetCDF file and subset it at the same time\n",
    "    else \n",
    "        if flag2 == 1:\n",
    "            Create a container and then a new datacube with random data and dimensions\n",
    "        else\n",
    "            Import a NetCDF file, then perform a subset operation over the datacube dimensions"
   ]
  },
  {
   "cell_type": "markdown",
   "metadata": {},
   "source": [
    "As first step, connect to the Ophidia Server"
   ]
  },
  {
   "cell_type": "code",
   "execution_count": 1,
   "metadata": {},
   "outputs": [
    {
     "name": "stdout",
     "output_type": "stream",
     "text": [
      "Current cdd is /\n",
      "Current session is http://127.0.0.1/ophidia/sessions/39507385033833434951631798720394551/experiment\n",
      "Current cwd is /\n",
      "The last produced cube is http://127.0.0.1/ophidia/10/74\n"
     ]
    }
   ],
   "source": [
    "import sys\n",
    "from PyOphidia import cube,client\n",
    "cube.Cube.setclient(read_env=True)"
   ]
  },
  {
   "cell_type": "markdown",
   "metadata": {},
   "source": [
    "Let's try to build step-by-step the JSON object associated to the workflow, by completing the missing arguments (```.....```).\n",
    "\n",
    "**Some hints:**\n",
    "   - the task ```OPH_ELSEIF``` has to be a child of ```OPH_IF``` or another ```OPH_ELSEIF```\n",
    "   - the task ```OPH_ELSE``` could be a child of ```OPH_ELSEIF``` and must be child of ```OPH_IF```\n",
    "   - the last task of any branch should be added as a dependency of the ```OPH_ENDIF``` task\n",
    "   - the workflow has the following arguments:\n",
    "       -  *if condition* ```$1```\n",
    "       -  *elseif condition* ```$2```\n",
    "       -  *NetCDF filename* ```$3```\n",
    "       -  *variable* to be imported ```$4```\n",
    "       -  *subset filter* (lat|lon|time) ```$5```\n",
    " "
   ]
  },
  {
   "cell_type": "markdown",
   "metadata": {},
   "source": [
    "First of all, we need to define the global workflow information."
   ]
  },
  {
   "cell_type": "code",
   "execution_count": 2,
   "metadata": {},
   "outputs": [],
   "source": [
    "workflow_if_endif_else = \"\"\"{\n",
    "        \"name\": \"Selection Interface\",\n",
    "        \"author\": \"CMCC\",\n",
    "        \"abstract\": \"Selection statement with more than two selection blocks\",\n",
    "        \"exec_mode\": \"sync\",\n",
    "        \"ncores\": \"1\",\n",
    "        \"tasks\":\n",
    "        [\n",
    "\"\"\""
   ]
  },
  {
   "cell_type": "markdown",
   "metadata": {},
   "source": [
    "**IF block**\n",
    "\n",
    "Open a ```if``` selection block and start the first selection sub-block.\n",
    "\n",
    "The boolean expression to be checked is the first argument of the workflow: if ```true``` (a *numerical non-zero value*), the tasks depending on this task are executed, whereas the tasks associated with the following selection sub-blocks are skipped; if ```false``` (a *zero value*), the tasks depending on this task are skipped, whereas the tasks associated with the following selection sub-block are executed."
   ]
  },
  {
   "cell_type": "code",
   "execution_count": 3,
   "metadata": {},
   "outputs": [],
   "source": [
    "workflow_if_endif_else += \"\"\"\n",
    "                {\n",
    "                        \"name\": \"IF block\",\n",
    "                        \"operator\": \"oph_if\",\n",
    "                        \"arguments\": [ \"condition=$1\" ]\n",
    "                },\n",
    "\"\"\""
   ]
  },
  {
   "cell_type": "markdown",
   "metadata": {},
   "source": [
    "If the first condition is ```true```, use the ```oph_importnc``` operator to import and subset a NetCDF file at the same time. Note use the workflow variables ```$N``` for the import operator arguments."
   ]
  },
  {
   "cell_type": "code",
   "execution_count": 4,
   "metadata": {},
   "outputs": [],
   "source": [
    "workflow_if_endif_else += \"\"\"\n",
    "                {\n",
    "                        \"name\": \"Import and subset\",\n",
    "                        \"operator\": \"oph_importnc\",\n",
    "                        \"arguments\":\n",
    "                        [\n",
    "                                \"src_path=$3\",\n",
    "                                \"measure=$4\",\n",
    "                                \"import_metadata=yes\",\n",
    "                                \"imp_dim=time\",\n",
    "                                \"imp_concept_level=d\",\n",
    "                                \"vocabulary=CF\",\n",
    "                                \"hierarchy=oph_base|oph_base|oph_time\",\n",
    "                                \"description=Max Temp imported and subsetted\",\n",
    "                                \"subset_dims=lat|lon|time\",\n",
    "                                \"subset_filter=$5\",\n",
    "                                \"subset_type=coord\"\n",
    "                        ],\n",
    "                        \"dependencies\":\n",
    "                        [\n",
    "                                { \"task\": \"IF block\" }\n",
    "                        ]\n",
    "                },\n",
    "\n",
    "\"\"\""
   ]
  },
  {
   "cell_type": "markdown",
   "metadata": {},
   "source": [
    "Start a new sub-block of the selection block ```if```. Here the boolean expression to be checked is the second argument of the workflow."
   ]
  },
  {
   "cell_type": "code",
   "execution_count": 5,
   "metadata": {},
   "outputs": [],
   "source": [
    "workflow_if_endif_else += \"\"\"\n",
    "                {\n",
    "                        \"name\": \"ELSEIF block\",\n",
    "                        \"operator\": \"oph_elseif\",\n",
    "                        \"arguments\": [ \"condition=$2\" ],\n",
    "                        \"dependencies\":\n",
    "                        [\n",
    "                                { \"task\": \"IF block\" }\n",
    "                        ]\n",
    "                },\n",
    "\n",
    "\"\"\""
   ]
  },
  {
   "cell_type": "markdown",
   "metadata": {},
   "source": [
    "If the second condition is ```true```, create an empty container named ```workflow``` and then a new datacube with random data and dimensions."
   ]
  },
  {
   "cell_type": "code",
   "execution_count": 6,
   "metadata": {},
   "outputs": [],
   "source": [
    "workflow_if_endif_else += \"\"\"\n",
    "               {\n",
    "                        \"name\": \"Create container\",\n",
    "                        \"operator\": \"oph_createcontainer\",\n",
    "                        \"on_error\": \"skip\",\n",
    "                        \"arguments\": \n",
    "                        [\n",
    "                                \"container=random\",\n",
    "                                \"dim=lat|lon|time\",\n",
    "                                \"dim_type=double|double|double\",\n",
    "                                \"hierarchy=oph_base|oph_base|oph_time\"\n",
    "                        ],\n",
    "                        \"dependencies\":\n",
    "                        [\n",
    "                                { \"task\": \"ELSEIF block\" }\n",
    "                        ]\n",
    "                },\n",
    "                {\n",
    "                        \"name\": \"Randcube\",\n",
    "                        \"operator\": \"oph_randcube\",\n",
    "                        \"arguments\":\n",
    "                        [\n",
    "                                \"container=random\",\n",
    "                                \"measure_type=double\",\n",
    "                                \"exp_ndim=2\",\n",
    "                                \"dim=lat|lon|time\",\n",
    "                                \"concept_level=c|c|d\",\n",
    "                                \"dim_size=16|10|10\",\n",
    "                                \"compressed=yes\",\n",
    "                                \"measure=test_var\",\n",
    "                                \"description=random cube\",\n",
    "                                \"nhost=1\",\n",
    "                                \"nfrag=16\",\n",
    "                                \"ntuple=10\"\n",
    "                        ],\n",
    "                        \"dependencies\":\n",
    "                        [\n",
    "                                { \"task\": \"Create container\" }\n",
    "                        ]\n",
    "                },\n",
    "\n",
    "\"\"\""
   ]
  },
  {
   "cell_type": "markdown",
   "metadata": {},
   "source": [
    "Start the last sub-block of the selection block ```if```."
   ]
  },
  {
   "cell_type": "code",
   "execution_count": 7,
   "metadata": {},
   "outputs": [],
   "source": [
    "workflow_if_endif_else += \"\"\"\n",
    "                {\n",
    "                        \"name\": \"ELSE block\",\n",
    "                        \"operator\": \"oph_else\",\n",
    "                        \"arguments\": [  ],\n",
    "                        \"dependencies\":\n",
    "                        [\n",
    "                                { \"task\": \"ELSEIF block\" }\n",
    "                        ]\n",
    "                },\n",
    "\n",
    "\"\"\""
   ]
  },
  {
   "cell_type": "markdown",
   "metadata": {},
   "source": [
    "If neither of the two conditions is satisfied, first import a NetCDF file, then perform a subset operation over the datacube dimensions."
   ]
  },
  {
   "cell_type": "code",
   "execution_count": 8,
   "metadata": {},
   "outputs": [],
   "source": [
    "workflow_if_endif_else += \"\"\"\n",
    "                {\n",
    "                        \"name\": \"Import data\",\n",
    "                        \"operator\": \"oph_importnc\",\n",
    "                        \"arguments\":\n",
    "                        [\n",
    "                                \"src_path=$3\",\n",
    "                                \"measure=$4\",\n",
    "                                \"import_metadata=yes\",\n",
    "                                \"imp_dim=time\",\n",
    "                                \"imp_concept_level=d\",\n",
    "                                \"vocabulary=CF\",\n",
    "                                \"hierarchy=oph_base|oph_base|oph_time\",\n",
    "                                \"description=Max Temp imported\"\n",
    "                        ],\n",
    "                        \"dependencies\":\n",
    "                        [\n",
    "                                { \"task\": \"ELSE block\" }\n",
    "                        ]\n",
    "                },\n",
    "                {\n",
    "                        \"name\": \"Subset data\",\n",
    "                        \"operator\": \"oph_subset\",\n",
    "                        \"arguments\":\n",
    "                        [\n",
    "                               \"subset_dims=lat|lon|time\",\n",
    "                               \"subset_filter=$5\",\n",
    "                               \"subset_type=coord\",\n",
    "                               \"description=Max Temp subsetted\" \n",
    "                        ],\n",
    "                        \"dependencies\":\n",
    "                        [\n",
    "                                { \"task\": \"Import data\", \"type\": \"single\" }\n",
    "                        ]\n",
    "                },\n",
    "\"\"\""
   ]
  },
  {
   "cell_type": "markdown",
   "metadata": {},
   "source": [
    "As last task, close the selection block ```if``` adding the proper depencies."
   ]
  },
  {
   "cell_type": "code",
   "execution_count": 9,
   "metadata": {},
   "outputs": [],
   "source": [
    "workflow_if_endif_else += \"\"\"\n",
    "                {\n",
    "                        \"name\": \"Selection block end\",\n",
    "                        \"operator\": \"oph_endif\",\n",
    "                        \"arguments\": [ ],\n",
    "                        \"dependencies\":\n",
    "                        [\n",
    "                                { \"task\": \"IF block\"},\n",
    "                                { \"task\": \"ELSEIF block\" },\n",
    "                                { \"task\": \"ELSE block\" }\n",
    "                        ]\n",
    "                }\n",
    "        ]\n",
    "}\n",
    "\"\"\""
   ]
  },
  {
   "cell_type": "markdown",
   "metadata": {},
   "source": [
    "And now, if everything is fine, we are ready to run the workflow with different input parameters to test the three possible branches!\n",
    "\n",
    "**First case**: new datacube randomly generated inside a container named \"workflow\"\n",
    "    \n",
    " <img src=\"../imgs/Selection_Interface_randcube.svg\" alt=\"Selection_Interface_randcube\" width=\"200\">\n",
    " \n",
    "**Second case**: datacube first imported, then subsetted\n",
    "\n",
    "<img src=\"../imgs/Selection_Interface_import+subset.svg\" alt=\"Selection_Interface_import+subset\" width=\"200\">\n",
    "\n",
    "**Third case**: datacube imported and subsetted at the same time\n",
    "    \n",
    " <img src=\"../imgs/Selection_Interface_importANDsubset.svg\" alt=\"Selection_Interface_importANDsubset\" width=\"200\">"
   ]
  },
  {
   "cell_type": "markdown",
   "metadata": {},
   "source": [
    "Define the workflow arguments:"
   ]
  },
  {
   "cell_type": "code",
   "execution_count": 10,
   "metadata": {},
   "outputs": [],
   "source": [
    "# Try all the possible options!\n",
    "if_cond=0\n",
    "elseif_cond=0\n",
    "\n",
    "file=\"/home/ophidia/notebooks/tasmax_day_CMCC-CESM_rcp85_r1i1p1_20960101-21001231.nc\"\n",
    "variable=\"tasmax\"\n",
    "\n",
    "# Try yourself with different filters!\n",
    "lat_lon_time=\"-50:10|20:140|150:240\" "
   ]
  },
  {
   "cell_type": "markdown",
   "metadata": {},
   "source": [
    "Run the workflow specifing the arguments in the proper order."
   ]
  },
  {
   "cell_type": "code",
   "execution_count": 12,
   "metadata": {},
   "outputs": [
    {
     "name": "stdout",
     "output_type": "stream",
     "text": [
      "Workflow Status\n",
      "---------------\n",
      "OPH_STATUS_COMPLETED\n",
      "\n",
      "\n",
      "Workflow Progress\n",
      "-----------------\n",
      "+===========================+=========================+=======================+\n",
      "| NUMBER OF COMPLETED TASKS | NUMBER OF SKIPPED TASKS | TOTAL NUMBER OF TASKS |\n",
      "|                           |                         |                       |\n",
      "+===========================+=========================+=======================+\n",
      "| 6                         | 3                       | 9                     |\n",
      "+===========================+=========================+=======================+\n",
      "Workflow Task List\n",
      "------------------\n",
      "+=================================================================================+=============================+=====+===+==========+=============+===+==============+\n",
      "| OPH JOB ID                                                                      | SESSION CODE                | WOR | M | PARENT M | TASK NAME   | T | EXIT STATUS  |\n",
      "|                                                                                 |                             | KFL | A | ARKER ID |             | Y |              |\n",
      "|                                                                                 |                             | OW  | R |          |             | P |              |\n",
      "|                                                                                 |                             | ID  | K |          |             | E |              |\n",
      "|                                                                                 |                             |     | E |          |             |   |              |\n",
      "|                                                                                 |                             |     | R |          |             |   |              |\n",
      "|                                                                                 |                             |     |   |          |             |   |              |\n",
      "|                                                                                 |                             |     | I |          |             |   |              |\n",
      "|                                                                                 |                             |     | D |          |             |   |              |\n",
      "|                                                                                 |                             |     |   |          |             |   |              |\n",
      "+=================================================================================+=============================+=====+===+==========+=============+===+==============+\n",
      "| http://127.0.0.1/ophidia/sessions/39507385033833434951631798720394551/experimen | 395073850338334349516317987 | 42  | 2 | 213      | IF block    | S | OPH_STATUS_C |\n",
      "| t?42#214                                                                        | 20394551                    |     | 1 |          |             | I | OMPLETED     |\n",
      "|                                                                                 |                             |     | 4 |          |             | M |              |\n",
      "|                                                                                 |                             |     |   |          |             | P |              |\n",
      "|---------------------------------------------------------------------------------|-----------------------------|-----|---|----------|-------------|---|--------------|\n",
      "| http://127.0.0.1/ophidia/sessions/39507385033833434951631798720394551/experimen | 395073850338334349516317987 | 42  | 2 | 213      | ELSEIF bloc | S | OPH_STATUS_C |\n",
      "| t?42#215                                                                        | 20394551                    |     | 1 |          | k           | I | OMPLETED     |\n",
      "|                                                                                 |                             |     | 5 |          |             | M |              |\n",
      "|                                                                                 |                             |     |   |          |             | P |              |\n",
      "|---------------------------------------------------------------------------------|-----------------------------|-----|---|----------|-------------|---|--------------|\n",
      "| http://127.0.0.1/ophidia/sessions/39507385033833434951631798720394551/experimen | 395073850338334349516317987 | 42  | 2 | 213      | ELSE block  | S | OPH_STATUS_C |\n",
      "| t?42#216                                                                        | 20394551                    |     | 1 |          |             | I | OMPLETED     |\n",
      "|                                                                                 |                             |     | 6 |          |             | M |              |\n",
      "|                                                                                 |                             |     |   |          |             | P |              |\n",
      "|---------------------------------------------------------------------------------|-----------------------------|-----|---|----------|-------------|---|--------------|\n",
      "| http://127.0.0.1/ophidia/sessions/39507385033833434951631798720394551/experimen | 395073850338334349516317987 | 42  | 2 | 213      | Import data | S | OPH_STATUS_C |\n",
      "| t?42#217                                                                        | 20394551                    |     | 1 |          |             | I | OMPLETED     |\n",
      "|                                                                                 |                             |     | 7 |          |             | M |              |\n",
      "|                                                                                 |                             |     |   |          |             | P |              |\n",
      "|---------------------------------------------------------------------------------|-----------------------------|-----|---|----------|-------------|---|--------------|\n",
      "| http://127.0.0.1/ophidia/sessions/39507385033833434951631798720394551/experimen | 395073850338334349516317987 | 42  | 2 | 213      | Selection b | S | OPH_STATUS_C |\n",
      "| t?42#218                                                                        | 20394551                    |     | 1 |          | lock end    | I | OMPLETED     |\n",
      "|                                                                                 |                             |     | 8 |          |             | M |              |\n",
      "|                                                                                 |                             |     |   |          |             | P |              |\n",
      "|---------------------------------------------------------------------------------|-----------------------------|-----|---|----------|-------------|---|--------------|\n",
      "| http://127.0.0.1/ophidia/sessions/39507385033833434951631798720394551/experimen | 395073850338334349516317987 | 42  | 2 | 213      | Subset data | S | OPH_STATUS_C |\n",
      "| t?42#219                                                                        | 20394551                    |     | 1 |          |             | I | OMPLETED     |\n",
      "|                                                                                 |                             |     | 9 |          |             | M |              |\n",
      "|                                                                                 |                             |     |   |          |             | P |              |\n",
      "+=================================================================================+=============================+=====+===+==========+=============+===+==============+\n",
      "Execution time: 1.5 seconds\n"
     ]
    },
    {
     "data": {
      "text/plain": [
       "<PyOphidia.client.Client at 0x7f6db077cac8>"
      ]
     },
     "execution_count": 12,
     "metadata": {},
     "output_type": "execute_result"
    }
   ],
   "source": [
    "cube.Cube.client.wsubmit(workflow_if_endif_else, if_cond,elseif_cond,file,variable,lat_lon_time)"
   ]
  },
  {
   "cell_type": "markdown",
   "metadata": {},
   "source": [
    "Check your workspace"
   ]
  },
  {
   "cell_type": "code",
   "execution_count": 13,
   "metadata": {},
   "outputs": [
    {
     "name": "stdout",
     "output_type": "stream",
     "text": [
      "Ophidia Filesystem: /\n",
      "---------------------\n",
      "+===+========================================================+===============================+====================+\n",
      "| T | PATH                                                   | DATACUBE PID                  | DESCRIPTION        |\n",
      "|   |                                                        |                               |                    |\n",
      "+===+========================================================+===============================+====================+\n",
      "| c | tasmax_day_CMCC-CESM_rcp85_r1i1p1_20960101-21001231.nc | http://127.0.0.1/ophidia/9/58 | Max Temp imported  |\n",
      "|---|--------------------------------------------------------|-------------------------------|--------------------|\n",
      "| c | tasmax_day_CMCC-CESM_rcp85_r1i1p1_20960101-21001231.nc | http://127.0.0.1/ophidia/9/59 | Max Temp subsetted |\n",
      "|---|--------------------------------------------------------|-------------------------------|--------------------|\n",
      "| c | tasmax_day_CMCC-CESM_rcp85_r1i1p1_20960101-21001231.nc | http://127.0.0.1/ophidia/9/75 | Max Temp imported  |\n",
      "|---|--------------------------------------------------------|-------------------------------|--------------------|\n",
      "| c | tasmax_day_CMCC-CESM_rcp85_r1i1p1_20960101-21001231.nc | http://127.0.0.1/ophidia/9/76 | Max Temp subsetted |\n",
      "|---|--------------------------------------------------------|-------------------------------|--------------------|\n",
      "| c | tasmax_day_CMCC-CESM_rcp85_r1i1p1_20960101-21001231.nc | http://127.0.0.1/ophidia/9/77 | Max Temp imported  |\n",
      "|---|--------------------------------------------------------|-------------------------------|--------------------|\n",
      "| c | tasmax_day_CMCC-CESM_rcp85_r1i1p1_20960101-21001231.nc | http://127.0.0.1/ophidia/9/78 | Max Temp subsetted |\n",
      "+===+========================================================+===============================+====================+\n",
      "Execution time: 0.13 seconds\n"
     ]
    }
   ],
   "source": [
    "cube.Cube.list(level=2)"
   ]
  },
  {
   "cell_type": "markdown",
   "metadata": {},
   "source": [
    "Empty your workspace before running the workflow again"
   ]
  },
  {
   "cell_type": "code",
   "execution_count": 14,
   "metadata": {},
   "outputs": [],
   "source": [
    "#cube.Cube.deletecontainer(container=\"random\",force='yes')\n",
    "cube.Cube.deletecontainer(container=\"tasmax_day_CMCC-CESM_rcp85_r1i1p1_20960101-21001231.nc\",force='yes')"
   ]
  },
  {
   "cell_type": "markdown",
   "metadata": {},
   "source": [
    "**NOTE:** You can find a sample implementation of this exercise in the *Examples* folder in the notebook [**Selection_interface**](../Examples/Selection_interface_example.ipynb)"
   ]
  }
 ],
 "metadata": {
  "kernelspec": {
   "display_name": "Python 3",
   "language": "python",
   "name": "python3"
  },
  "language_info": {
   "codemirror_mode": {
    "name": "ipython",
    "version": 3
   },
   "file_extension": ".py",
   "mimetype": "text/x-python",
   "name": "python",
   "nbconvert_exporter": "python",
   "pygments_lexer": "ipython3",
   "version": "3.6.8"
  }
 },
 "nbformat": 4,
 "nbformat_minor": 2
}

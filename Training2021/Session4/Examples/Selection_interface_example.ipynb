{
 "cells": [
  {
   "cell_type": "markdown",
   "metadata": {},
   "source": [
    "# Example of selection interace use\n",
    "\n",
    "This notebook shows how to use the selection interface to define a if/elsif/else workflow with multiple execution paths based on the input conditions.\n",
    "\n",
    "As first step, let's connect to the Ophidia Server"
   ]
  },
  {
   "cell_type": "code",
   "execution_count": null,
   "metadata": {},
   "outputs": [],
   "source": [
    "import sys\n",
    "from PyOphidia import cube,client\n",
    "cube.Cube.setclient(read_env=True)"
   ]
  },
  {
   "cell_type": "markdown",
   "metadata": {},
   "source": [
    "The JSON object associated to the workflow is shown in the cell below.\n",
    "\n",
    "The workflow defines three different execution paths:\n",
    "\n",
    "1. The *if* path consisting of:\n",
    "\n",
    "  1. single **import** operator which performs also the subset according to the ```$5``` argument. The task has a flow dependency from the **IF block** task\n",
    "  \n",
    "2. The *elseif* path consisting of:\n",
    "\n",
    "  1. **createcontainer** operator used to create a working container for a random datacube. The task has a flow dependency from the **ELSEIF block** task\n",
    "  2. **randucube** operator to create a datacube with random values. This task has a flow dependency on the previous task\n",
    "  \n",
    "3. The *else* path consisting of:\n",
    "\n",
    "  1. **import** operator to read the whole file, which has a flow dependency from the **ELSE block** task\n",
    "  2. **subset** operator to extract a subset of the imported file according to the ```$5``` argument. The task a **single** dependency from the **Import** task since it exploits only one output of parent task\n",
    "\n",
    "The **Selection block end** closes the various if/elseif/else branches. It has a three **single** dependencies from the last task of each branch in order to make the datacube identifiers available outside the scope of the conditional construct."
   ]
  },
  {
   "cell_type": "code",
   "execution_count": null,
   "metadata": {},
   "outputs": [],
   "source": [
    "workflow_if_endif_else = \"\"\"{\n",
    "        \"name\": \"Selection Interface\",\n",
    "        \"author\": \"CMCC\",\n",
    "        \"abstract\": \"Selection statement with two selection blocks\",\n",
    "        \"exec_mode\": \"sync\",\n",
    "        \"ncores\": \"1\",\n",
    "        \"tasks\":\n",
    "        [\n",
    "                {\n",
    "                        \"name\": \"IF block\",\n",
    "                        \"operator\": \"oph_if\",\n",
    "                        \"arguments\": [ \"condition=$1\" ]\n",
    "                },\n",
    "                {\n",
    "                        \"name\": \"Import and subset\",\n",
    "                        \"operator\": \"oph_importnc\",\n",
    "                        \"arguments\":\n",
    "                        [\n",
    "                                \"src_path=$3\",\n",
    "                                \"measure=$4\",\n",
    "                                \"import_metadata=yes\",\n",
    "                                \"imp_dim=time\",\n",
    "                                \"imp_concept_level=d\",\n",
    "                                \"vocabulary=CF\",\n",
    "                                \"hierarchy=oph_base|oph_base|oph_time\",\n",
    "                                \"description=Max Temp imported and subsetted\",\n",
    "                                \"subset_dims=lat|lon|time\",\n",
    "                                \"subset_filter=$5\",\n",
    "                                \"subset_type=coord\"\n",
    "                        ],\n",
    "                        \"dependencies\":\n",
    "                        [\n",
    "                                { \"task\": \"IF block\" }\n",
    "                        ]\n",
    "                },\n",
    "            \n",
    "                {\n",
    "                        \"name\": \"ELSEIF block\",\n",
    "                        \"operator\": \"oph_elseif\",\n",
    "                        \"arguments\": [ \"condition=$2\" ],\n",
    "                        \"dependencies\":\n",
    "                        [\n",
    "                                { \"task\": \"IF block\" }\n",
    "                        ]\n",
    "                },\n",
    "                {\n",
    "                        \"name\": \"Create container\",\n",
    "                        \"operator\": \"oph_createcontainer\",\n",
    "                        \"on_error\": \"skip\",\n",
    "                        \"arguments\": \n",
    "                        [\n",
    "                                \"container=random\",\n",
    "                                \"dim=lat|lon|time\",\n",
    "                                \"dim_type=double|double|double\",\n",
    "                                \"hierarchy=oph_base|oph_base|oph_time\"\n",
    "                        ],\n",
    "                        \"dependencies\":\n",
    "                        [\n",
    "                                { \"task\": \"ELSEIF block\" }\n",
    "                        ]\n",
    "                },\n",
    "                {\n",
    "                        \"name\": \"Randcube\",\n",
    "                        \"operator\": \"oph_randcube\",\n",
    "                        \"arguments\":\n",
    "                        [\n",
    "                                \"container=random\",\n",
    "                                \"measure_type=double\",\n",
    "                                \"exp_ndim=2\",\n",
    "                                \"dim=lat|lon|time\",\n",
    "                                \"concept_level=c|c|d\",\n",
    "                                \"dim_size=16|10|10\",\n",
    "                                \"compressed=yes\",\n",
    "                                \"measure=test_var\",\n",
    "                                \"description=random cube\",\n",
    "                                \"nhost=1\",\n",
    "                                \"nfrag=16\",\n",
    "                                \"ntuple=10\"\n",
    "                        ],\n",
    "                        \"dependencies\":\n",
    "                        [\n",
    "                                { \"task\": \"Create container\" }\n",
    "                        ]\n",
    "                },\n",
    "                \n",
    "                {\n",
    "                        \"name\": \"ELSE block\",\n",
    "                        \"operator\": \"oph_else\",\n",
    "                        \"arguments\": [  ],\n",
    "                        \"dependencies\":\n",
    "                        [\n",
    "                                { \"task\": \"ELSEIF block\" }\n",
    "                        ]\n",
    "                },\n",
    "                {\n",
    "                        \"name\": \"Import data\",\n",
    "                        \"operator\": \"oph_importnc\",\n",
    "                        \"arguments\":\n",
    "                        [\n",
    "                                \"src_path=$3\",\n",
    "                                \"measure=$4\",\n",
    "                                \"import_metadata=yes\",\n",
    "                                \"imp_dim=time\",\n",
    "                                \"imp_concept_level=d\",\n",
    "                                \"vocabulary=CF\",\n",
    "                                \"hierarchy=oph_base|oph_base|oph_time\",\n",
    "                                \"description=Max Temp imported\"\n",
    "                        ],\n",
    "                        \"dependencies\":\n",
    "                        [\n",
    "                                { \"task\": \"ELSE block\" }\n",
    "                        ]\n",
    "                },\n",
    "                {\n",
    "                        \"name\": \"Subset data\",\n",
    "                        \"operator\": \"oph_subset\",\n",
    "                        \"arguments\":\n",
    "                        [\n",
    "                               \"subset_dims=lat|lon|time\",\n",
    "                               \"subset_filter=$5\",\n",
    "                               \"subset_type=coord\",\n",
    "                               \"description=Max Temp subsetted\" \n",
    "                        ],\n",
    "                        \"dependencies\":\n",
    "                        [\n",
    "                                { \"task\": \"Import data\",\n",
    "                                  \"type\": \"single\" }\n",
    "                        ]\n",
    "                },\n",
    "                {\n",
    "                        \"name\": \"Selection block end\",\n",
    "                        \"operator\": \"oph_endif\",\n",
    "                        \"arguments\": [ ],\n",
    "                        \"dependencies\":\n",
    "                        [\n",
    "                                { \"task\": \"Subset data\"},\n",
    "                                { \"task\": \"Import and subset\" },\n",
    "                                { \"task\": \"Randcube\" }\n",
    "                        ]\n",
    "                }\n",
    "        ]\n",
    "}\"\"\""
   ]
  },
  {
   "cell_type": "markdown",
   "metadata": {},
   "source": [
    "Let's define the workflow arguments:\n",
    "- *if condition* ```$1```\n",
    "- *elseif condition* ```$2```\n",
    "- *NetCDF filename* ```$3```\n",
    "- *variable* to be imported ```$4```\n",
    "- *subset filter* (lat|lon|time) ```$5```"
   ]
  },
  {
   "cell_type": "code",
   "execution_count": null,
   "metadata": {},
   "outputs": [],
   "source": [
    "file=\"/home/ophidia/notebooks/tasmax_day_CMCC-CESM_rcp85_r1i1p1_20960101-21001231.nc\"\n",
    "variable=\"tasmax\"\n",
    "lat_lon_time=\"-50:10|20:140|150:240\""
   ]
  },
  {
   "cell_type": "markdown",
   "metadata": {},
   "source": [
    "First case: new datacube randomly generated inside a container named \"workflow\"\n",
    "    \n",
    "    - if condition = 0\n",
    "    - elseif condition = 1\n",
    "    \n",
    " <img src=\"../imgs/Selection_Interface_randcube.svg\" alt=\"Selection_Interface_randcube\" width=\"200\">"
   ]
  },
  {
   "cell_type": "code",
   "execution_count": null,
   "metadata": {},
   "outputs": [],
   "source": [
    "if_cond=0\n",
    "elseif_cond=1"
   ]
  },
  {
   "cell_type": "markdown",
   "metadata": {},
   "source": [
    "Run the workflow"
   ]
  },
  {
   "cell_type": "code",
   "execution_count": null,
   "metadata": {},
   "outputs": [],
   "source": [
    "cube.Cube.client.wsubmit(workflow_if_endif_else, if_cond, elseif_cond, file, variable,lat_lon_time)"
   ]
  },
  {
   "cell_type": "code",
   "execution_count": null,
   "metadata": {},
   "outputs": [],
   "source": [
    "cube.Cube.list(level=2)"
   ]
  },
  {
   "cell_type": "code",
   "execution_count": null,
   "metadata": {},
   "outputs": [],
   "source": [
    "cube.Cube.deletecontainer(container=\"random\",force='yes')"
   ]
  },
  {
   "cell_type": "markdown",
   "metadata": {},
   "source": [
    "Second case:  datacube first imported, then subsetted\n",
    "    \n",
    "    - if condition = 0\n",
    "    - elseif condition = 0\n",
    "    \n",
    " <img src=\"../imgs/Selection_Interface_import+subset.svg\" alt=\"Selection_Interface_import+subset\" width=\"200\">"
   ]
  },
  {
   "cell_type": "code",
   "execution_count": null,
   "metadata": {},
   "outputs": [],
   "source": [
    "if_cond=0\n",
    "elseif_cond=0"
   ]
  },
  {
   "cell_type": "code",
   "execution_count": null,
   "metadata": {},
   "outputs": [],
   "source": [
    "cube.Cube.client.wsubmit(workflow_if_endif_else, if_cond, elseif_cond, file, variable,lat_lon_time)"
   ]
  },
  {
   "cell_type": "code",
   "execution_count": null,
   "metadata": {},
   "outputs": [],
   "source": [
    "cube.Cube.list(level=2)"
   ]
  },
  {
   "cell_type": "code",
   "execution_count": null,
   "metadata": {},
   "outputs": [],
   "source": [
    "cube.Cube.deletecontainer(container=\"tasmax_day_CMCC-CESM_rcp85_r1i1p1_20960101-21001231.nc\",force='yes')"
   ]
  },
  {
   "cell_type": "markdown",
   "metadata": {},
   "source": [
    "Third case: datacube imported and subsetted at the same time\n",
    "    \n",
    "    - if condition = 1\n",
    "    - elseif condition = X\n",
    "    \n",
    " <img src=\"../imgs/Selection_Interface_importANDsubset.svg\" alt=\"Selection_Interface_importANDsubset\" width=\"200\">"
   ]
  },
  {
   "cell_type": "code",
   "execution_count": null,
   "metadata": {},
   "outputs": [],
   "source": [
    "if_cond=1\n",
    "elseif_cond=0"
   ]
  },
  {
   "cell_type": "code",
   "execution_count": null,
   "metadata": {},
   "outputs": [],
   "source": [
    "cube.Cube.client.wsubmit(workflow_if_endif_else, if_cond, elseif_cond, file, variable,lat_lon_time)"
   ]
  },
  {
   "cell_type": "code",
   "execution_count": null,
   "metadata": {},
   "outputs": [],
   "source": [
    "cube.Cube.list(level=2)"
   ]
  },
  {
   "cell_type": "code",
   "execution_count": null,
   "metadata": {},
   "outputs": [],
   "source": [
    "cube.Cube.deletecontainer(container=\"tasmax_day_CMCC-CESM_rcp85_r1i1p1_20960101-21001231.nc\",force='yes')"
   ]
  }
 ],
 "metadata": {
  "kernelspec": {
   "display_name": "Python 3",
   "language": "python",
   "name": "python3"
  },
  "language_info": {
   "codemirror_mode": {
    "name": "ipython",
    "version": 3
   },
   "file_extension": ".py",
   "mimetype": "text/x-python",
   "name": "python",
   "nbconvert_exporter": "python",
   "pygments_lexer": "ipython3",
   "version": "3.6.8"
  }
 },
 "nbformat": 4,
 "nbformat_minor": 2
}

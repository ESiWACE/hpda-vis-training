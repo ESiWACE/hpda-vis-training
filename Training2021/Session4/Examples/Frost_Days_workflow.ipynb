{
 "cells": [
  {
   "cell_type": "markdown",
   "metadata": {},
   "source": [
    "# Compute the Frost Days Climate Index as a workflow of operators\n",
    "\n",
    "This notebook computes the **Frost Days index** defined as a workflow of Ophidia operators including:\n",
    "- a set of key-value pairs as additional global attributes shared between all the tasks\n",
    "- the task list as a JSON array\n",
    "- some information regarding task dependencies \n",
    "\n",
    "Starting from the daily minimum temperature (2096-2100) TN, the Frost Days index is the number of days where $TN < 0°C$"
   ]
  },
  {
   "cell_type": "markdown",
   "metadata": {},
   "source": [
    "As first step, let's connect to the Ophidia Server"
   ]
  },
  {
   "cell_type": "code",
   "execution_count": null,
   "metadata": {},
   "outputs": [],
   "source": [
    "import sys\n",
    "from PyOphidia import cube,client\n",
    "cube.Cube.setclient(read_env=True)"
   ]
  },
  {
   "cell_type": "markdown",
   "metadata": {},
   "source": [
    "The JSON object associated to the workflow is shown in the cell below.\n",
    "\n",
    "The task list includes the following tasks:\n",
    "\n",
    "1. **Import**\n",
    " - the input NetCDF data set located at ```src_path``` (set to the first workflow input parameter) is imported into the Ophidia platform, with minimum temperature in °K (see http://ophidia.cmcc.it/documentation/users/operators/OPH_IMPORTNC.html)\n",
    " - the ```measure``` is set according to the second workflow input parameter\n",
    " - data is arranged in order to operate on time series (as indicated by the ```imp_dim``` parameter)\n",
    " - the task has no dependencies\n",
    " \n",
    " \n",
    "2. **Frost Days mask**\n",
    " - the *oph_apply* operator (see http://ophidia.cmcc.it/documentation/users/operators/OPH_APPLY.html) is used to identify the frost days: $\\{day \\mid TN(day) < 273.15\\}$ \n",
    " - we are basically creating a mask by using the *oph_predicate* primitive (see http://ophidia.cmcc.it/documentation/users/primitives/OPH_PREDICATE.html)\n",
    " - the task has a **single** dependency from the **Import** task since it exploits only one output of parent task\n",
    " \n",
    "\n",
    "3. **Count frost days**\n",
    " - count days below the given threshold on yearly basis\n",
    " - the *oph_reduce2* operator (see http://ophidia.cmcc.it/documentation/users/operators/OPH_REDUCE2.html) is used with ```operation=sum``` and ```concept_level=y```\n",
    " - **single** dependency from **Frost Days mask**\n",
    "\n",
    "\n",
    "4. **Subset**\n",
    " - *oph_subset* operator (see http://ophidia.cmcc.it/documentation/users/operators/OPH_SUBSET.html) to subset on the first year (```subset_filter=1```, ```subset_dims=time\"```)\n",
    " - **single** dependency from **Count frost days**\n",
    " \n",
    "\n",
    "5. **Export**\n",
    " - *oph_exportnc2* operator (see http://ophidia.cmcc.it/documentation/users/operators/OPH_EXPORTNC2.html) to export summer days index related to year 2096 to a NetCDF file\n",
    " - **single** dependency from **Subset**\n",
    " \n",
    " \n",
    "<img src=\"../imgs/Frost_Days.svg\" alt=\"Summer_Days\">"
   ]
  },
  {
   "cell_type": "code",
   "execution_count": null,
   "metadata": {},
   "outputs": [],
   "source": [
    "workflow_FirstYear = \"\"\"{\n",
    "        \"name\": \"Frost Days\",\n",
    "        \"author\": \"CMCC\",\n",
    "        \"abstract\": \"Workflow version of the Frost Days index\",\n",
    "        \"exec_mode\": \"sync\",\n",
    "        \"ncores\": \"2\",\n",
    "        \"cwd\": \"/\",\n",
    "        \"tasks\":\n",
    "        [\n",
    "                {\n",
    "                        \"name\": \"Import\",\n",
    "                        \"operator\": \"oph_importnc\",\n",
    "                        \"arguments\":\n",
    "                        [\n",
    "                                \"src_path=$1\",\n",
    "                                \"measure=$2\",\n",
    "                                \"import_metadata=yes\",\n",
    "                                \"imp_dim=time\",\n",
    "                                \"imp_concept_level=d\",\n",
    "                                \"vocabulary=CF\",\n",
    "                                \"hierarchy=oph_base|oph_base|oph_time\",\n",
    "                                \"description=Min Temp\"\n",
    "                        ]\n",
    "                },\n",
    "                {\n",
    "                        \"name\": \"Frost Days mask\",\n",
    "                        \"operator\": \"oph_apply\",\n",
    "                        \"arguments\":\n",
    "                        [\n",
    "                                \"measure_type=auto\",\n",
    "                                \"query=oph_predicate(measure,'x-273.15','<0','1','0')\",\n",
    "                                \"description=Frost days mask\"\n",
    "                        ],\n",
    "                        \"dependencies\": [\n",
    "                                { \"task\": \"Import\", \"type\": \"single\" }\n",
    "                        ]\n",
    "                },\n",
    "                {\n",
    "                        \"name\": \"Count frost days\",\n",
    "                        \"operator\": \"oph_reduce2\",\n",
    "                        \"arguments\":\n",
    "                        [\n",
    "                                \"operation=sum\",\n",
    "                                \"dim=time\",\n",
    "                                \"concept_level=y\",\n",
    "                                \"description=Frost Days Count\"\n",
    "                        ],\n",
    "                        \"dependencies\": [\n",
    "                                { \"task\": \"Frost Days mask\", \"type\": \"single\" }\n",
    "                        ]\n",
    "                },\n",
    "                {\n",
    "                        \"name\": \"Subset\",\n",
    "                        \"operator\": \"oph_subset\",\n",
    "                        \"arguments\":\n",
    "                        [\n",
    "                                \"subset_filter=1\",\n",
    "                                \"subset_dims=time\",\n",
    "                                \"description=First year\"\n",
    "                        ],\n",
    "                        \"dependencies\": [\n",
    "                                { \"task\": \"Count frost days\", \"type\": \"single\" }\n",
    "                        ]\n",
    "                },\n",
    "                {\n",
    "                        \"name\": \"Export\",\n",
    "                        \"operator\": \"oph_exportnc2\",\n",
    "                        \"arguments\": [\n",
    "                            \"output_name=Frost_days_2096\",\n",
    "                            \"output_path=/home/ophidia/notebooks/\"\n",
    "                        ],\n",
    "                        \"dependencies\": [\n",
    "                            { \"task\": \"Subset\", \"type\": \"single\"}\n",
    "                        ]\n",
    "                }\n",
    "        ]\n",
    "}\"\"\""
   ]
  },
  {
   "cell_type": "markdown",
   "metadata": {},
   "source": [
    "Once the workflow is defined, it can be executed very easily on different dataset by simply specifying the proper path and variable name for the minimum temperature.\n",
    "\n",
    "Let's define the workflow input arguments for the example"
   ]
  },
  {
   "cell_type": "code",
   "execution_count": null,
   "metadata": {},
   "outputs": [],
   "source": [
    "path=\"/home/ophidia/notebooks/\"\n",
    "file=\"tasmin_day_CMCC-CESM_rcp85_r1i1p1_20960101-21001231.nc\"\n",
    "variable=\"tasmin\""
   ]
  },
  {
   "cell_type": "markdown",
   "metadata": {},
   "source": [
    "Submit the workflow"
   ]
  },
  {
   "cell_type": "code",
   "execution_count": null,
   "metadata": {},
   "outputs": [],
   "source": [
    "cube.Cube.client.wsubmit(workflow_FirstYear, path+file, variable)"
   ]
  },
  {
   "cell_type": "markdown",
   "metadata": {},
   "source": [
    "Check for Summer_days_2096.nc"
   ]
  },
  {
   "cell_type": "code",
   "execution_count": null,
   "metadata": {},
   "outputs": [],
   "source": [
    "import glob\n",
    "glob.glob('/home/ophidia/notebooks/Frost*.nc')"
   ]
  },
  {
   "cell_type": "markdown",
   "metadata": {},
   "source": [
    "We can plot a map for year 2096 by considering the PID associated to the 'First year' datacube"
   ]
  },
  {
   "cell_type": "code",
   "execution_count": null,
   "metadata": {},
   "outputs": [],
   "source": [
    "cube.Cube.list(level=2)"
   ]
  },
  {
   "cell_type": "code",
   "execution_count": null,
   "metadata": {},
   "outputs": [],
   "source": [
    "# Get PID of 'First year'\n",
    "firstyear = cube.Cube(pid='http://127.0.0.1/ophidia/.../...')"
   ]
  },
  {
   "cell_type": "code",
   "execution_count": null,
   "metadata": {},
   "outputs": [],
   "source": [
    "%matplotlib inline\n",
    "import cartopy.crs as ccrs\n",
    "import matplotlib.pyplot as plt\n",
    "from cartopy.mpl.geoaxes import GeoAxes\n",
    "from cartopy.util import add_cyclic_point\n",
    "import numpy as np\n",
    "import warnings\n",
    "warnings.filterwarnings(\"ignore\")\n",
    "\n",
    "fig = plt.figure(figsize=(15, 6), dpi=100)\n",
    "\n",
    "#Add Geo axes to the figure with the specified projection (PlateCarree)\n",
    "projection = ccrs.PlateCarree()\n",
    "ax = plt.axes(projection=projection)\n",
    "\n",
    "#Draw coastline and gridlines\n",
    "ax.coastlines()\n",
    "\n",
    "gl = ax.gridlines(crs=projection, draw_labels=True, linewidth=1, color='black', alpha=0.9, linestyle=':')\n",
    "gl.xlabels_top = False\n",
    "gl.ylabels_right = False\n",
    "\n",
    "data = firstyear.export_array(show_time='yes')\n",
    "lat = data['dimension'][0]['values'][ : ]\n",
    "lon = data['dimension'][1]['values'][ : ]\n",
    "var = data['measure'][0]['values'][ : ]\n",
    "var = np.reshape(var, (len(lat), len(lon)))\n",
    "\n",
    "#Wraparound points in longitude\n",
    "var_cyclic, lon_cyclic = add_cyclic_point(var, coord=np.asarray(lon))\n",
    "x, y = np.meshgrid(lon_cyclic,lat)\n",
    "\n",
    "#Define color levels for color bar\n",
    "levStep = (np.nanmax(var)-np.nanmin(var))/20\n",
    "clevs = np.arange(np.nanmin(var),np.nanmax(var)+levStep,levStep)\n",
    "\n",
    "#Set filled contour plot\n",
    "cnplot = ax.contourf(x, y, var_cyclic, clevs, transform=projection,cmap=plt.cm.Oranges)\n",
    "plt.colorbar(cnplot,ax=ax)\n",
    "\n",
    "ax.set_aspect('auto', adjustable=None)\n",
    "\n",
    "plt.title('Frost Days (year 2096)')\n",
    "plt.show()"
   ]
  },
  {
   "cell_type": "markdown",
   "metadata": {},
   "source": [
    "Before running the other examples, empty the workspace"
   ]
  },
  {
   "cell_type": "code",
   "execution_count": null,
   "metadata": {},
   "outputs": [],
   "source": [
    "cube.Cube.deletecontainer(container=file,force='yes')"
   ]
  },
  {
   "cell_type": "code",
   "execution_count": null,
   "metadata": {},
   "outputs": [],
   "source": [
    "cube.Cube.list(level=2)"
   ]
  }
 ],
 "metadata": {
  "kernelspec": {
   "display_name": "Python 3",
   "language": "python",
   "name": "python3"
  },
  "language_info": {
   "codemirror_mode": {
    "name": "ipython",
    "version": 3
   },
   "file_extension": ".py",
   "mimetype": "text/x-python",
   "name": "python",
   "nbconvert_exporter": "python",
   "pygments_lexer": "ipython3",
   "version": "3.6.8"
  }
 },
 "nbformat": 4,
 "nbformat_minor": 2
}

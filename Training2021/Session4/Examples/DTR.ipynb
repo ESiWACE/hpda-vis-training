{
 "cells": [
  {
   "cell_type": "markdown",
   "metadata": {},
   "source": [
    "# Compute the Daily temperature range (DTR)\n",
    "\n",
    "In this example we compute the DTR as the monthly mean of the difference between the daily maximum temperature (TX) and minimum temperature (TN)."
   ]
  },
  {
   "cell_type": "markdown",
   "metadata": {},
   "source": [
    "As first step, let's connect to the Ophidia Server"
   ]
  },
  {
   "cell_type": "code",
   "execution_count": null,
   "metadata": {},
   "outputs": [],
   "source": [
    "import sys\n",
    "from PyOphidia import cube,client\n",
    "cube.Cube.setclient(read_env=True)"
   ]
  },
  {
   "cell_type": "markdown",
   "metadata": {},
   "source": [
    "The JSON object associated to the workflow is shown in the cell below.\n",
    "\n",
    "The task list includes the following tasks:\n",
    "\n",
    "1. **Import**\n",
    " - the input NetCDF data sets located at ```src_path``` (set as a workflow input parameters) are imported into the Ophidia platform, with minimum and maximum temperature in °K (see http://ophidia.cmcc.it/documentation/users/operators/OPH_IMPORTNC.html)\n",
    " - the ```measure``` is set according to the workflow input parameters\n",
    " - data is arranged in order to operate on time series (as indicated by the ```imp_dim``` parameter)\n",
    " \n",
    " \n",
    "2. **Daily DTR**\n",
    " - the *oph_intercube* operator (see http://ophidia.cmcc.it/documentation/users/operators/OPH_INTERCUBE.html) is used to execute an operation (*sub*) between the two imported datacubes \n",
    " - the task has two **single** dependencies from the previous **Import** tasks since it uses one output from each of the parent tasks. In particular, the ```cube``` parameter of the oph_intercube operator will be set to the PID of the cube imported in the first Import task (*tasmax*), while the ```cube2``` parameter will be set to the PID of the cube imported in the second Import task (*tasmax*).\n",
    " \n",
    "\n",
    "3. **Monthly DTR**\n",
    " - compute the monthly average of DTR\n",
    " - the *oph_reduce2* operator (see http://ophidia.cmcc.it/documentation/users/operators/OPH_REDUCE2.html) is used with ```operation=avg``` and ```concept_level=M```\n",
    " - **single** dependency from **Daily DTR** task\n",
    "\n",
    "\n",
    "4. **Subset**\n",
    " - *oph_subset* operator (see http://ophidia.cmcc.it/documentation/users/operators/OPH_SUBSET.html) to extract the first month (Jan 2096) providing the time range in human-readable form: ```subset_filter=2096-01```, ```subset_dims=time```, ```subset_type=coord```\n",
    " - **single** dependency from **Monthly DTR** task\n",
    "\n",
    "5. **Export**\n",
    " - *oph_exportnc2* operator (see http://ophidia.cmcc.it/documentation/users/operators/OPH_EXPORTNC2.html) to export the DTR index related to January 2096 to a NetCDF file\n",
    " - **single** dependency from **task 4**\n",
    " \n",
    " \n",
    "<img src=\"../imgs/DTR.svg\" alt=\"Summer_Days\">\n",
    "\n",
    "Note that the two *oph_importnc* tasks (for *tasmax* and *tasmin*) are independent from each other and can be executed concurrently by the workflow management system. Each task defines two variables in order to define at submission time both the NetCDF path and the variable name."
   ]
  },
  {
   "cell_type": "code",
   "execution_count": null,
   "metadata": {},
   "outputs": [],
   "source": [
    "dtr_workflow = \"\"\"{\n",
    "        \"name\": \"DTR\",\n",
    "        \"author\": \"CMCC\",\n",
    "        \"abstract\": \"Workflow version of the Daily temperature range (DTR) index\",\n",
    "        \"exec_mode\": \"sync\",\n",
    "        \"ncores\": \"2\",\n",
    "        \"cwd\": \"/\",\n",
    "        \"tasks\":\n",
    "        [\n",
    "                {\n",
    "                        \"name\": \"Import tasmin\",\n",
    "                        \"operator\": \"oph_importnc\",\n",
    "                        \"arguments\":\n",
    "                        [\n",
    "                                \"src_path=$1\",\n",
    "                                \"measure=$2\",\n",
    "                                \"import_metadata=yes\",\n",
    "                                \"imp_dim=time\",\n",
    "                                \"imp_concept_level=d\",\n",
    "                                \"vocabulary=CF\",\n",
    "                                \"hierarchy=oph_base|oph_base|oph_time\",\n",
    "                                \"description=Min Temp\"\n",
    "                        ]\n",
    "                },\n",
    "                {\n",
    "                        \"name\": \"Import tasmax\",\n",
    "                        \"operator\": \"oph_importnc\",\n",
    "                        \"arguments\":\n",
    "                        [\n",
    "                                \"src_path=$3\",\n",
    "                                \"measure=$4\",\n",
    "                                \"import_metadata=yes\",\n",
    "                                \"imp_dim=time\",\n",
    "                                \"imp_concept_level=d\",\n",
    "                                \"vocabulary=CF\",\n",
    "                                \"hierarchy=oph_base|oph_base|oph_time\",\n",
    "                                \"description=Max Temp\"\n",
    "                        ]\n",
    "                },\n",
    "                {\n",
    "                        \"name\": \"Daily DTR\",\n",
    "                        \"operator\": \"oph_intercube\",\n",
    "                        \"arguments\":\n",
    "                        [\n",
    "                                \"operation=sub\",\n",
    "                                \"description=Daily DTR\"\n",
    "                        ],\n",
    "                        \"dependencies\": [\n",
    "                                { \"task\": \"Import tasmin\", \"type\": \"single\", \"argument\":\"cube2\" },\n",
    "                                { \"task\": \"Import tasmax\", \"type\": \"single\", \"argument\":\"cube\" }\n",
    "                        ]\n",
    "                },\n",
    "                {\n",
    "                        \"name\": \"Monthly DTR\",\n",
    "                        \"operator\": \"oph_reduce2\",\n",
    "                        \"arguments\":\n",
    "                        [\n",
    "                                \"operation=avg\",\n",
    "                                \"dim=time\",\n",
    "                                \"concept_level=M\",\n",
    "                                \"description=Monthly DTR\"\n",
    "                        ],\n",
    "                        \"dependencies\": [\n",
    "                                { \"task\": \"Daily DTR\", \"type\": \"single\" }\n",
    "                        ]\n",
    "                },\n",
    "                {\n",
    "                        \"name\": \"First month\",\n",
    "                        \"operator\": \"oph_subset\",\n",
    "                        \"arguments\":\n",
    "                        [\n",
    "                                \"subset_filter=2096-01\",\n",
    "                                \"subset_dims=time\",\n",
    "                                \"description=First year\",\n",
    "                                \"subset_type=coord\"\n",
    "                        ],\n",
    "                        \"dependencies\": [\n",
    "                                { \"task\": \"Monthly DTR\", \"type\": \"single\" }\n",
    "                        ]\n",
    "                },\n",
    "                {\n",
    "                        \"name\": \"Export\",\n",
    "                        \"operator\": \"oph_exportnc2\",\n",
    "                        \"arguments\": [\n",
    "                            \"output_name=DTR_2096-01\",\n",
    "                            \"output_path=/home/ophidia/notebooks/\"\n",
    "                        ],\n",
    "                        \"dependencies\": [\n",
    "                            { \"task\": \"First month\", \"type\": \"single\"}\n",
    "                        ]\n",
    "                }\n",
    "        ]\n",
    "            \n",
    "}\"\"\""
   ]
  },
  {
   "cell_type": "markdown",
   "metadata": {},
   "source": [
    "Once the workflow is defined, it can be executed very easily on different dataset by simply specifying the proper path and variable name for the minimum and maximum temperature.\n",
    "\n",
    "Let's define the workflow input arguments for the example"
   ]
  },
  {
   "cell_type": "code",
   "execution_count": null,
   "metadata": {},
   "outputs": [],
   "source": [
    "path=\"/home/ophidia/notebooks/\"\n",
    "file1=\"tasmin_day_CMCC-CESM_rcp85_r1i1p1_20960101-21001231.nc\"\n",
    "variable1=\"tasmin\"\n",
    "file2=\"tasmax_day_CMCC-CESM_rcp85_r1i1p1_20960101-21001231.nc\"\n",
    "variable2=\"tasmax\""
   ]
  },
  {
   "cell_type": "markdown",
   "metadata": {},
   "source": [
    "Submit the workflow"
   ]
  },
  {
   "cell_type": "code",
   "execution_count": null,
   "metadata": {},
   "outputs": [],
   "source": [
    "cube.Cube.client.wsubmit(dtr_workflow, path+file1, variable1, path+file2, variable2)"
   ]
  },
  {
   "cell_type": "markdown",
   "metadata": {},
   "source": [
    "Check for DTR_2096-01.nc"
   ]
  },
  {
   "cell_type": "code",
   "execution_count": null,
   "metadata": {},
   "outputs": [],
   "source": [
    "import glob\n",
    "glob.glob('/home/ophidia/notebooks/DTR*.nc')"
   ]
  },
  {
   "cell_type": "markdown",
   "metadata": {},
   "source": [
    "We can plot a map for year 2096 by considering the PID associated to the 'First year' datacube"
   ]
  },
  {
   "cell_type": "code",
   "execution_count": null,
   "metadata": {},
   "outputs": [],
   "source": [
    "cube.Cube.list(level=2)"
   ]
  },
  {
   "cell_type": "code",
   "execution_count": null,
   "metadata": {},
   "outputs": [],
   "source": [
    "# Get PID of 'First year'\n",
    "firstyear = cube.Cube(pid='http://127.0.0.1/ophidia/.../...')"
   ]
  },
  {
   "cell_type": "code",
   "execution_count": null,
   "metadata": {},
   "outputs": [],
   "source": [
    "%matplotlib inline\n",
    "import cartopy.crs as ccrs\n",
    "import matplotlib.pyplot as plt\n",
    "from cartopy.mpl.geoaxes import GeoAxes\n",
    "from cartopy.util import add_cyclic_point\n",
    "import numpy as np\n",
    "import warnings\n",
    "warnings.filterwarnings(\"ignore\")\n",
    "\n",
    "fig = plt.figure(figsize=(15, 6), dpi=100)\n",
    "\n",
    "#Add Geo axes to the figure with the specified projection (PlateCarree)\n",
    "projection = ccrs.PlateCarree()\n",
    "ax = plt.axes(projection=projection)\n",
    "\n",
    "#Draw coastline and gridlines\n",
    "ax.coastlines()\n",
    "\n",
    "gl = ax.gridlines(crs=projection, draw_labels=True, linewidth=1, color='black', alpha=0.9, linestyle=':')\n",
    "gl.xlabels_top = False\n",
    "gl.ylabels_right = False\n",
    "\n",
    "data = firstyear.export_array(show_time='yes')\n",
    "lat = data['dimension'][0]['values'][ : ]\n",
    "lon = data['dimension'][1]['values'][ : ]\n",
    "var = data['measure'][0]['values'][ : ]\n",
    "var = np.reshape(var, (len(lat), len(lon)))\n",
    "\n",
    "#Wraparound points in longitude\n",
    "var_cyclic, lon_cyclic = add_cyclic_point(var, coord=np.asarray(lon))\n",
    "x, y = np.meshgrid(lon_cyclic,lat)\n",
    "\n",
    "#Define color levels for color bar\n",
    "levStep = (np.nanmax(var)-np.nanmin(var))/20\n",
    "clevs = np.arange(np.nanmin(var),np.nanmax(var)+levStep,levStep)\n",
    "\n",
    "#Set filled contour plot\n",
    "cnplot = ax.contourf(x, y, var_cyclic, clevs, transform=projection,cmap=plt.cm.Oranges)\n",
    "plt.colorbar(cnplot,ax=ax)\n",
    "\n",
    "ax.set_aspect('auto', adjustable=None)\n",
    "\n",
    "plt.title('Frost Days (year 2096)')\n",
    "plt.show()"
   ]
  },
  {
   "cell_type": "markdown",
   "metadata": {},
   "source": [
    "Before running the other examples, empty the workspace"
   ]
  },
  {
   "cell_type": "code",
   "execution_count": null,
   "metadata": {},
   "outputs": [],
   "source": [
    "cube.Cube.deletecontainer(container=file1,force='yes')\n",
    "cube.Cube.deletecontainer(container=file2,force='yes')"
   ]
  },
  {
   "cell_type": "code",
   "execution_count": null,
   "metadata": {},
   "outputs": [],
   "source": [
    "cube.Cube.list(level=2)"
   ]
  }
 ],
 "metadata": {
  "kernelspec": {
   "display_name": "Python 3",
   "language": "python",
   "name": "python3"
  },
  "language_info": {
   "codemirror_mode": {
    "name": "ipython",
    "version": 3
   },
   "file_extension": ".py",
   "mimetype": "text/x-python",
   "name": "python",
   "nbconvert_exporter": "python",
   "pygments_lexer": "ipython3",
   "version": "3.6.8"
  }
 },
 "nbformat": 4,
 "nbformat_minor": 2
}

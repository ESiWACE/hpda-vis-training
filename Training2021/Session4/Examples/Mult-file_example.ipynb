{
 "cells": [
  {
   "cell_type": "markdown",
   "metadata": {},
   "source": [
    "# Example of workflow operating on multiple files\n",
    "\n",
    "This notebook performs the same analysis on multiple different input datasets (computing the **Icing Days index**) and then combines the resulting datacubes into a single datacube to perform a final statistical analysis. In includes:\n",
    "\n",
    "- a set of key-value pairs as additional global attributes shared between all the tasks\n",
    "- the task list as a JSON array\n",
    "- some information regarding task dependencies \n",
    "- the use of parallel for loops\n",
    "\n",
    "Starting from the daily maximum temperature TX, the Icing Days index is the number of days where $TX < T$ (T is  a reference temperature, i.e. 0°C)"
   ]
  },
  {
   "cell_type": "markdown",
   "metadata": {},
   "source": [
    "As first step, let's connect to the Ophidia Server"
   ]
  },
  {
   "cell_type": "code",
   "execution_count": null,
   "metadata": {},
   "outputs": [],
   "source": [
    "import sys\n",
    "from PyOphidia import cube,client\n",
    "cube.Cube.setclient(read_env=True)"
   ]
  },
  {
   "cell_type": "markdown",
   "metadata": {},
   "source": [
    "The JSON object associated to the workflow is shown in the cell below.\n",
    "\n",
    "The task list includes the following tasks:\n",
    "\n",
    "1. **Createcontainer**\n",
    " - the *oph_createcontainer* operator (see http://ophidia.cmcc.it/documentation/users/operators/OPH_CREATECONTAINER.html) is used to create a working container for the workflow datacubes\n",
    " - the task has no dependencies\n",
    "\n",
    "2. **Start loop**\n",
    " - the **oph_for** task (see http://ophidia.cmcc.it/documentation/users/operators/OPH_FOR.html) allows to start a for loop which will run the iterations concurrently thanks to the ```\"parallel=yes\"``` option. The loop index is set according to the ```\"key=year\"``` argument with values defined via ```values=$1``` (defined at runtime)\n",
    " - the task has an **embedded** dependency from the **Createcontainer** task since it only needs to wait for the previous task completion\n",
    "\n",
    "3. **Import**\n",
    " - the input NetCDF data set located at ```src_path``` (set to the first workflow input parameter) is imported into the Ophidia platform, with maximum temperature in °K (see http://ophidia.cmcc.it/documentation/users/operators/OPH_IMPORTNC.html)\n",
    " - the ```measure``` is set according to the second workflow input parameter\n",
    " - data is arranged in order to operate on time series (as indicated by the ```imp_dim``` parameter)\n",
    " - the task has an **embedded** dependency from the **Start Loop** task since it only needs to wait for the previous task completion\n",
    " \n",
    "4. **Icing Days mask**\n",
    " - the *oph_apply* operator (see http://ophidia.cmcc.it/documentation/users/operators/OPH_APPLY.html) is used to identify the summer days: $\\{day \\mid TX(day) < 273.15\\}$ \n",
    " - we are basically creating a mask by using the *oph_predicate* primitive (see http://ophidia.cmcc.it/documentation/users/primitives/OPH_PREDICATE.html)\n",
    " - the task has a **single** dependency from the **Import** task since it exploits only one output of parent task\n",
    " \n",
    "5. **Count Icing days**\n",
    " - count days above the given threshold on yearly basis\n",
    " - the *oph_reduce2* operator (see http://ophidia.cmcc.it/documentation/users/operators/OPH_REDUCE2.html) is used with ```operation=sum``` and ```concept_level=y```\n",
    " - **single** dependency from **Icing Days mask**\n",
    "\n",
    "6. **End loop**\n",
    " - *oph_endfor* operator (see http://ophidia.cmcc.it/documentation/users/operators/OPH_ENDFOR.html) to end the parallel for loop\n",
    " - **all** dependency from **Count Icing Days** task to pass the datacubes from the depending task for all the various branches to the tasks outside the loop\n",
    "\n",
    "7. **Merge datacubes**\n",
    " - *oph_mergecubes2* operator (see http://ophidia.cmcc.it/documentation/users/operators/OPH_MERGECUBES2.html) to merge multiple datacubes and create a new dimension (```dim=new_dim```)\n",
    " - **all** dependency from **End Loop** task to pass all the datacubes from the for loop as ```cubes``` of the operator\n",
    " \n",
    "8. **Final reduce**\n",
    " - *oph_reduce2* operator (see http://ophidia.cmcc.it/documentation/users/operators/OPH_REDUCE2.html) to perform the average ```operation=avg``` on dimension ```dim=new_dim```\n",
    " - **single** dependency from **Merge datacubes**\n",
    "  \n",
    "<img src=\"../imgs/Multi_year_Icing_Days.svg\" alt=\"Multi_year_Icing_Days\">\n",
    "\n",
    "The tasks in the central box (the for loop) will be executed in parallel thanks to the ```parallel=yes``` option.\n",
    "\n",
    "Note the use of **@{year}** keyword to identify the value associated with a given branch of the loop for."
   ]
  },
  {
   "cell_type": "code",
   "execution_count": null,
   "metadata": {},
   "outputs": [],
   "source": [
    "multifile_workflow = \"\"\"{\n",
    "        \"name\": \"Multi-year Icing Days\",\n",
    "        \"author\": \"CMCC\",\n",
    "        \"abstract\": \"Stats for Icing Days index over several years\",\n",
    "        \"exec_mode\": \"sync\",\n",
    "        \"ncores\": \"1\",\n",
    "        \"cwd\": \"/\",\n",
    "        \"tasks\":\n",
    "        [\n",
    "                {\n",
    "                        \"name\": \"Create container\",\n",
    "                        \"operator\": \"oph_createcontainer\",\n",
    "                        \"arguments\": \n",
    "                        [\n",
    "                                \"container=icing_days\",\n",
    "                                \"dim=lat|lon|time\",\n",
    "                                \"dim_type=double|double|double\",\n",
    "                                \"hierarchy=oph_base|oph_base|oph_time\"\n",
    "                        ],\n",
    "                        \"on_error\": \"skip\"\n",
    "                },\n",
    "                {\n",
    "                        \"name\": \"Start loop\",\n",
    "                        \"operator\": \"oph_for\",\n",
    "                        \"arguments\": \n",
    "                        [\n",
    "                                \"key=year\",\n",
    "                                \"values=$1\",\n",
    "                                \"parallel=yes\"\n",
    "                        ],\n",
    "                        \"dependencies\": [\n",
    "                                { \"task\": \"Create container\"}\n",
    "                        ]\n",
    "                },\n",
    "                {\n",
    "                        \"name\": \"Import\",\n",
    "                        \"operator\": \"oph_importnc\",\n",
    "                        \"arguments\":\n",
    "                        [\n",
    "                                \"src_path=/home/ophidia/notebooks/tasmax_day_CMCC-CESM_rcp85_r1i1p1_@{year}0101-@{year}1231.nc\",                            \n",
    "                                \"measure=tasmax\",\n",
    "                                \"container=icing_days\",\n",
    "                                \"import_metadata=yes\",\n",
    "                                \"imp_dim=time\",\n",
    "                                \"imp_concept_level=d\",\n",
    "                                \"vocabulary=CF\",\n",
    "                                \"hierarchy=oph_base|oph_base|oph_time\",\n",
    "                                \"description=Max Temp @{year}\"\n",
    "                        ],\n",
    "                        \"dependencies\": [\n",
    "                                { \"task\": \"Start loop\"}\n",
    "                        ]\n",
    "                },   \n",
    "                {\n",
    "                        \"name\": \"Icing Days mask\",\n",
    "                        \"operator\": \"oph_apply\",\n",
    "                        \"arguments\":\n",
    "                        [\n",
    "                                \"measure_type=auto\",\n",
    "                                \"query=oph_predicate(measure,'x-273.15','<0','1','0')\",\n",
    "                                \"description=Icing days mask @{year}\"\n",
    "                        ],\n",
    "                        \"dependencies\": [\n",
    "                                { \"task\": \"Import\", \"type\": \"single\" }\n",
    "                        ]\n",
    "                },\n",
    "                {\n",
    "                        \"name\": \"Count icing days\",\n",
    "                        \"operator\": \"oph_reduce2\",\n",
    "                        \"arguments\":\n",
    "                        [\n",
    "                                \"operation=sum\",\n",
    "                                \"dim=time\",\n",
    "                                \"concept_level=y\",\n",
    "                                \"description=Icing days count @{year}\"\n",
    "                        ],\n",
    "                        \"dependencies\": [\n",
    "                                { \"task\": \"Icing Days mask\", \"type\": \"single\" }\n",
    "                        ]\n",
    "                },\n",
    "                {\n",
    "                        \"name\": \"End loop\",\n",
    "                        \"operator\": \"oph_endfor\",\n",
    "                        \"arguments\": [],\n",
    "                        \"dependencies\": [\n",
    "                                { \"task\": \"Count icing days\", \"type\": \"all\"}\n",
    "                        ]\n",
    "                },\n",
    "                {\n",
    "                        \"name\": \"Merge datacubes\",\n",
    "                        \"operator\": \"oph_mergecubes2\",\n",
    "                        \"arguments\": \n",
    "                        [\n",
    "                                \"dim=new_dim\",\n",
    "                                \"description=Merged cube\"\n",
    "                        ],\n",
    "                        \"dependencies\": [\n",
    "                                { \"task\": \"End loop\", \"type\": \"all\", \"argument\": \"cubes\" }\n",
    "                        ]\n",
    "                },\n",
    "                {\n",
    "                        \"name\": \"Final average\",\n",
    "                        \"operator\": \"oph_reduce2\",\n",
    "                        \"arguments\": [\n",
    "                                \"operation=avg\",\n",
    "                                \"dim=new_dim\",\n",
    "                                \"description=Final cube\"\n",
    "                        ],\n",
    "                        \"dependencies\": [\n",
    "                                { \"task\": \"Merge datacubes\", \"type\": \"single\" }\n",
    "                        ]\n",
    "                }                \n",
    "        ]\n",
    "}\"\"\""
   ]
  },
  {
   "cell_type": "markdown",
   "metadata": {},
   "source": [
    "Once the workflow is defined, it can be executed very easily on different years by changing the related argument.\n",
    "\n",
    "Let's define the workflow input arguments for the example"
   ]
  },
  {
   "cell_type": "code",
   "execution_count": null,
   "metadata": {},
   "outputs": [],
   "source": [
    "year_index=\"2096|2097|2098|2099|2100\""
   ]
  },
  {
   "cell_type": "markdown",
   "metadata": {},
   "source": [
    "Submit the workflow. Note that, even though the total tasks defined is 8, the workflow management system will actually execute 20 tasks based on the current ```year_index``` definition."
   ]
  },
  {
   "cell_type": "code",
   "execution_count": null,
   "metadata": {},
   "outputs": [],
   "source": [
    "cube.Cube.client.wsubmit(multifile_workflow, year_index)"
   ]
  },
  {
   "cell_type": "markdown",
   "metadata": {},
   "source": [
    "We can plot a map for by considering the PID associated to the 'Final cube' datacube"
   ]
  },
  {
   "cell_type": "code",
   "execution_count": null,
   "metadata": {},
   "outputs": [],
   "source": [
    "cube.Cube.list(level=2)"
   ]
  },
  {
   "cell_type": "code",
   "execution_count": null,
   "metadata": {},
   "outputs": [],
   "source": [
    "# Get PID of 'First year'\n",
    "firstyear = cube.Cube(pid='http://127.0.0.1/ophidia/.../...')"
   ]
  },
  {
   "cell_type": "code",
   "execution_count": null,
   "metadata": {},
   "outputs": [],
   "source": [
    "%matplotlib inline\n",
    "import cartopy.crs as ccrs\n",
    "import matplotlib.pyplot as plt\n",
    "from cartopy.mpl.geoaxes import GeoAxes\n",
    "from cartopy.util import add_cyclic_point\n",
    "import numpy as np\n",
    "import warnings\n",
    "warnings.filterwarnings(\"ignore\")\n",
    "\n",
    "fig = plt.figure(figsize=(15, 6), dpi=100)\n",
    "\n",
    "#Add Geo axes to the figure with the specified projection (PlateCarree)\n",
    "projection = ccrs.PlateCarree()\n",
    "ax = plt.axes(projection=projection)\n",
    "\n",
    "#Draw coastline and gridlines\n",
    "ax.coastlines()\n",
    "\n",
    "gl = ax.gridlines(crs=projection, draw_labels=True, linewidth=1, color='black', alpha=0.9, linestyle=':')\n",
    "gl.xlabels_top = False\n",
    "gl.ylabels_right = False\n",
    "\n",
    "data = firstyear.export_array(show_time='yes')\n",
    "lat = data['dimension'][0]['values'][ : ]\n",
    "lon = data['dimension'][1]['values'][ : ]\n",
    "var = data['measure'][0]['values'][ : ]\n",
    "var = np.reshape(var, (len(lat), len(lon)))\n",
    "\n",
    "#Wraparound points in longitude\n",
    "var_cyclic, lon_cyclic = add_cyclic_point(var, coord=np.asarray(lon))\n",
    "x, y = np.meshgrid(lon_cyclic,lat)\n",
    "\n",
    "#Define color levels for color bar\n",
    "levStep = (np.nanmax(var)-np.nanmin(var))/20\n",
    "clevs = np.arange(np.nanmin(var),np.nanmax(var)+levStep,levStep)\n",
    "\n",
    "#Set filled contour plot\n",
    "cnplot = ax.contourf(x, y, var_cyclic, clevs, transform=projection,cmap=plt.cm.Oranges)\n",
    "plt.colorbar(cnplot,ax=ax)\n",
    "\n",
    "ax.set_aspect('auto', adjustable=None)\n",
    "\n",
    "plt.title('Icing Days Average')\n",
    "plt.show()"
   ]
  },
  {
   "cell_type": "markdown",
   "metadata": {},
   "source": [
    "Before running the other examples, empty the workspace"
   ]
  },
  {
   "cell_type": "code",
   "execution_count": null,
   "metadata": {},
   "outputs": [],
   "source": [
    "cube.Cube.deletecontainer(container='icing_days',force='yes')"
   ]
  },
  {
   "cell_type": "code",
   "execution_count": null,
   "metadata": {},
   "outputs": [],
   "source": [
    "cube.Cube.list(level=2)"
   ]
  }
 ],
 "metadata": {
  "kernelspec": {
   "display_name": "Python 3",
   "language": "python",
   "name": "python3"
  },
  "language_info": {
   "codemirror_mode": {
    "name": "ipython",
    "version": 3
   },
   "file_extension": ".py",
   "mimetype": "text/x-python",
   "name": "python",
   "nbconvert_exporter": "python",
   "pygments_lexer": "ipython3",
   "version": "3.6.8"
  }
 },
 "nbformat": 4,
 "nbformat_minor": 2
}
